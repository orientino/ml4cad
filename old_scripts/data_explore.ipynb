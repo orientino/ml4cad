{
 "cells": [
  {
   "cell_type": "code",
   "execution_count": 2,
   "metadata": {},
   "outputs": [],
   "source": [
    "import pandas as pd\n",
    "import numpy as np\n",
    "import matplotlib.pyplot as plt\n",
    "\n",
    "plt.style.use('ggplot')\n",
    "%matplotlib inline"
   ]
  },
  {
   "cell_type": "code",
   "execution_count": 12,
   "metadata": {},
   "outputs": [
    {
     "name": "stdout",
     "output_type": "stream",
     "text": [
      "<class 'pandas.core.frame.DataFrame'>\n",
      "Int64Index: 3934 entries, 5286 to 3070\n",
      "Data columns (total 40 columns):\n",
      " #   Column                                      Non-Null Count  Dtype  \n",
      "---  ------                                      --------------  -----  \n",
      " 0   Total cholesterol                           3934 non-null   Int64  \n",
      " 1   HDL                                         3934 non-null   Int64  \n",
      " 2   LDL                                         3934 non-null   Int64  \n",
      " 3   Triglycerides                               3934 non-null   Int64  \n",
      " 4   Glycemia                                    3934 non-null   Int64  \n",
      " 5   TSH                                         3934 non-null   Float64\n",
      " 6   fT3                                         3934 non-null   Float64\n",
      " 7   fT4                                         3934 non-null   Float64\n",
      " 8   Gender (Male = 1)                           3934 non-null   Int64  \n",
      " 9   Age (1)                                     3934 non-null   Int64  \n",
      " 10  Angina                                      3934 non-null   Int64  \n",
      " 11  Previous CABG                               3934 non-null   Int64  \n",
      " 12  Previous PCI                                3934 non-null   Int64  \n",
      " 13  Previous Myocardial Infarction              3934 non-null   Int64  \n",
      " 14  Acute Myocardial Infarction                 3934 non-null   Int64  \n",
      " 15  Angiography                                 3934 non-null   Int64  \n",
      " 16  CAD                                         3934 non-null   Int64  \n",
      " 17  Documented resting \n",
      "or exertional ischemia  3934 non-null   Int64  \n",
      " 18  Post-ischemic Dilated\n",
      "Cardiomyopathy        3934 non-null   Int64  \n",
      " 19  Primary Dilated\n",
      "Cardiomyopathy              3934 non-null   Int64  \n",
      " 20  HR                                          3934 non-null   Int64  \n",
      " 21  BMI                                         3934 non-null   Float64\n",
      " 22  Diastolic blood pressure                    3934 non-null   Int64  \n",
      " 23  Systolic blood pressure                     3934 non-null   Int64  \n",
      " 24  Smoke\n",
      "History of smoke                      3934 non-null   Int64  \n",
      " 25  Diabetes\n",
      "History of diabetes                3934 non-null   Int64  \n",
      " 26  Hypertension\n",
      "History of hypertension        3934 non-null   Int64  \n",
      " 27  History of dyslipidaemia                    3934 non-null   Int64  \n",
      " 28  Atrial Fibrillation                         3934 non-null   Int64  \n",
      " 29  Paroxysmal atrial fibrillation              3934 non-null   Int64  \n",
      " 30  B-Blockers                                  3934 non-null   Int64  \n",
      " 31  Amiodarone                                  3934 non-null   Int64  \n",
      " 32  Calcium channel blockers                    3934 non-null   Int64  \n",
      " 33  Diuretics                                   3934 non-null   Int64  \n",
      " 34  Antiplatelet                                3934 non-null   Int64  \n",
      " 35  Nitrates                                    3934 non-null   Int64  \n",
      " 36  ACE-inhibitors                              3934 non-null   Int64  \n",
      " 37  Ipolipemizzanti                             3934 non-null   Int64  \n",
      " 38  Antidiabetici                               3934 non-null   Int64  \n",
      " 39  Survive7Y                                   3934 non-null   Int64  \n",
      "dtypes: Float64(4), Int64(36)\n",
      "memory usage: 1.4 MB\n"
     ]
    }
   ],
   "source": [
    "df = pd.read_csv(\"../data/old_data/7y/train.csv\", index_col=0)\n",
    "df = df.convert_dtypes()\n",
    "# df[\"Hospital admission\"] = pd.to_datetime(df[\"Hospital admission\"], format=\"%d/%m/%Y\")\n",
    "# df[\"Follow Up Data\"] = pd.to_datetime(df[\"Follow Up Data\"], format=\"%d/%m/%Y\")\n",
    "# df[\"Data of death\"] = pd.to_datetime(df[\"Data of death\"], errors=\"coerce\", format=\"%d/%m/%Y\")\n",
    "# df[\"CABG\"] = pd.to_datetime(df[\"CABG\"], errors=\"coerce\", format=\"%d/%m/%Y\")\n",
    "# df[\"Non Fatal AMI (Follow-Up)\"] = pd.to_datetime(df[\"Non Fatal AMI (Follow-Up)\"], errors=\"coerce\", format=\"%d/%m/%Y\")\n",
    "# df[\"Ictus\"] = pd.to_datetime(df[\"Ictus\"], errors=\"coerce\", format=\"%d/%m/%Y\")\n",
    "# df[\"PCI\"] = pd.to_datetime(df[\"PCI\"], errors=\"coerce\", format=\"%d/%m/%Y\")\n",
    "df.info()"
   ]
  },
  {
   "cell_type": "code",
   "execution_count": 6,
   "metadata": {},
   "outputs": [],
   "source": [
    "# (df[\"AMI\"] == df[\"Acute \\nMyocardial Infarction\"]).sum() / len(df[\"AMI\"] == df[\"Acute \\nMyocardial Infarction\"])\n",
    "# (df[\"PMI\"] == df[\"Previous \\nMyocardial Infarction\"]).sum() / len(df[\"PMI\"] == df[\"Previous \\nMyocardial Infarction\"])"
   ]
  },
  {
   "cell_type": "code",
   "execution_count": 7,
   "metadata": {},
   "outputs": [],
   "source": [
    "# # test subset AMI in Previous MI\n",
    "# MI_index = df[df[\"Acute Myocardial Infarction\"]==1].index\n",
    "# MI = df.loc[MI_index, \"Previous Myocardial Infarction\"]\n",
    "# AMI = df.loc[MI_index, \"Acute Myocardial Infarction\"]\n",
    "# MI_idx = df[df[\"Previous Myocardial Infarction\"]==1].index\n",
    "# AMI_idx = df[df[\"Acute Myocardial Infarction\"]==1].index\n",
    "# print(f\"Previous Myocardial Infarction: {len(MI)}\")\n",
    "# print(f\"Acute Myocardial Infarction: {len(AMI)}\")\n",
    "\n",
    "# c = 0\n",
    "# for i in AMI_idx:\n",
    "#     for j in MI_idx:\n",
    "#         if i == j:\n",
    "#             c += 1\n",
    "\n",
    "# print(c)\n",
    "\n",
    "# # =============================================\n",
    "# # test total mortality = OR\n",
    "# total = df[df[\"Total mortality\"]==1].index\n",
    "# cvd_idx = df[df[\"CVD Death\"]==1].index\n",
    "# fatal_idx = df[df[\"Fatal MI or Sudden death\"]==1].index\n",
    "# unknown_idx = df[df[\"UnKnown\"]==1].index\n",
    "# accident_idx = df[df[\"Accident\"]==1].index\n",
    "# suicide_idx = df[df[\"Suicide\"]==1].index\n",
    "\n",
    "# c = 0\n",
    "# for i in cvd_idx:\n",
    "#     for j in fatal_idx:\n",
    "#         if i == j:\n",
    "#             c += 1\n",
    "\n",
    "# print(c)\n",
    "\n",
    "# # =============================================\n",
    "# # check if all the number of Data of death == Total mortality\n",
    "# # this check fails, error patient ID 8211: Total mortality should be = 1\n",
    "# deaths = df[\"Data of death\"].dropna().index\n",
    "# assert set(deaths.index) - set(total) == 0\n",
    "\n",
    "# # check if the date of deaths's are the same of the follow up\n",
    "# assert (df.loc[deaths, \"Follow Up Data\"] == df.loc[deaths, \"Data of death\"]).all()"
   ]
  },
  {
   "cell_type": "markdown",
   "metadata": {},
   "source": [
    "## Remove all deaths != CVD"
   ]
  },
  {
   "cell_type": "code",
   "execution_count": 8,
   "metadata": {},
   "outputs": [
    {
     "name": "stdout",
     "output_type": "stream",
     "text": [
      "Total deaths: 2811\n",
      "Death CVD: 1192\n",
      "Death Non-CVD: 1619\n",
      "Death Fatal MI or Sudden: 322\n",
      "Non Fatal AMI (Follow-Up): 352\n",
      "\n",
      "Total patients: 9085\n",
      "Total patients (after removal of Death Non-CVD): 7466\n"
     ]
    }
   ],
   "source": [
    "# remove all deaths != CVD\n",
    "total = df[df[\"Total mortality\"]==1].index\n",
    "cvd_idx = df[df[\"CVD Death\"]==1].index\n",
    "fatal_idx = df[df[\"Fatal MI or Sudden death\"]==1].index\n",
    "nonfatal_idx = df[\"Non Fatal AMI (Follow-Up)\"].dropna().index\n",
    "noncvd_idx = set(total) - set(cvd_idx)\n",
    "assert len(noncvd_idx) == len(total) - len(cvd_idx)\n",
    "\n",
    "print(f\"Total deaths: {len(total)}\")\n",
    "print(f\"Death CVD: {len(cvd_idx)}\")\n",
    "print(f\"Death Non-CVD: {len(noncvd_idx)}\")\n",
    "print(f\"Death Fatal MI or Sudden: {len(fatal_idx)}\")\n",
    "print(f\"Non Fatal AMI (Follow-Up): {len(nonfatal_idx)}\")\n",
    "\n",
    "df_cvd = df.drop(noncvd_idx)\n",
    "print(f\"\\nTotal patients: {len(df)}\")\n",
    "print(f\"Total patients (after removal of Death Non-CVD): {len(df_cvd)}\")"
   ]
  },
  {
   "cell_type": "markdown",
   "metadata": {},
   "source": [
    "## Check distributions for each outcome"
   ]
  },
  {
   "cell_type": "code",
   "execution_count": 9,
   "metadata": {},
   "outputs": [],
   "source": [
    "# df_diff = df_cvd[\"Follow Up Data\"] - df_cvd[\"Hospital admission\"]\n",
    "# df_diff_nonfatal = df.loc[nonfatal_idx, \"Non Fatal AMI (Follow-Up)\"] - df.loc[nonfatal_idx, \"Hospital admission\"]\n",
    "\n",
    "# for i in df_diff.index:\n",
    "#     df_diff[i] = df_diff[i].days // 365\n",
    "# for i in df_diff_nonfatal.index:\n",
    "#     df_diff_nonfatal[i] = df_diff_nonfatal[i].days // 365\n",
    "\n",
    "# df_diff_cvd = df_diff.loc[cvd_idx]\n",
    "# df_diff_fatal = df_diff.loc[fatal_idx]\n",
    "# df_diff_alive = df_diff.drop(cvd_idx)\n",
    "# df_cvd[\"Interval (Years)\"] = df_diff\n",
    "\n",
    "# assert len(df_cvd) == len(df_diff_alive) + len(df_diff_cvd)\n",
    "\n",
    "# # plotting\n",
    "# fig = plt.figure(figsize=(20, 5)) \n",
    "# fig_dims = (1, 2)\n",
    "# fig.subplots_adjust(hspace=0.2, wspace=0.2)\n",
    "\n",
    "# plt.subplot2grid(fig_dims, (0, 0))\n",
    "# df_diff_cvd.value_counts().sort_index().plot()\n",
    "# df_diff_fatal.value_counts().sort_index().plot()\n",
    "# df_diff_nonfatal.value_counts().sort_index().plot()\n",
    "# df_diff_alive.value_counts().sort_index().plot()\n",
    "# plt.legend([\"Death CVD\", \"Death Fatal MI or Sudden\", \"Non Fatal MI\", \"Alive\"])\n",
    "# plt.title(\"Distribution of outcomes\")\n",
    "# plt.xlabel(\"Years\")\n",
    "# plt.ylabel(\"#Patients\")\n",
    "\n",
    "# plt.subplot2grid(fig_dims, (0, 1))\n",
    "# df_diff_cvd.value_counts(normalize=True).sort_index().plot()\n",
    "# df_diff_fatal.value_counts(normalize=True).sort_index().plot()\n",
    "# df_diff_nonfatal.value_counts(normalize=True).sort_index().plot()\n",
    "# df_diff_alive.value_counts(normalize=True).sort_index().plot()\n",
    "# plt.legend([\"Death CVD\", \"Death Fatal MI or Sudden\", \"Non Fatal MI\", \"Alive\"])\n",
    "# plt.title(\"Distribution of outcomes (normalized)\")\n",
    "# plt.xlabel(\"Years\")\n",
    "# plt.ylabel(\"#Patients\")"
   ]
  },
  {
   "cell_type": "code",
   "execution_count": 144,
   "metadata": {},
   "outputs": [],
   "source": [
    "# save computed difference\n",
    "df_cvd.to_csv(\"data_cvd.csv\")"
   ]
  },
  {
   "cell_type": "code",
   "execution_count": 147,
   "metadata": {},
   "outputs": [
    {
     "data": {
      "text/plain": [
       "0.7156040268456376"
      ]
     },
     "execution_count": 147,
     "metadata": {},
     "output_type": "execute_result"
    }
   ],
   "source": [
    "df_diff_cvd.value_counts(normalize=True).sort_index()[:5].sum()"
   ]
  },
  {
   "cell_type": "code",
   "execution_count": 140,
   "metadata": {},
   "outputs": [],
   "source": [
    "# df_deaths = pd.concat([df_diff_cvd, df_diff_fatal, df_diff_nonfatal, df_diff_alive], axis=1)\n",
    "# df_deaths.columns = [\"Death CVD\", \"Death Fatal MI or Sudden\", \"NOn Fatal MI\", \"Alive\"]\n",
    "# df_deaths.plot.hist(bins=20, alpha=0.5)"
   ]
  },
  {
   "cell_type": "markdown",
   "metadata": {},
   "source": [
    "## Check the percentage of defined features\n",
    "CVD Death class (df_cvd[df[\"CVD Death\"] == 1].info()), total = 1192 entries\n",
    "- T3, T4 have ~440 non-null, 36.4%\n",
    "- Vessels has ~628 non-null, 52.6%\n",
    "\n",
    "Fatal MI or Sudden death class (df_cvd[df[\"Fatal MI or Sudden death\"] == 1].info()), total = 332\n",
    "- T3, T4 have ~110 non-null, 33.1%\n",
    "- Vessels has ~192 non-null, 57.6%\n",
    "\n",
    "Non Fatal MI class (df.loc[nonfatal_idx].info()), total = 352\n",
    "- T3, T4 have ~100 non-null, 28.4%\n",
    "- Vessels has ~273 non-null, 77.5%\n",
    "\n",
    "Alive class (df_cvd.drop(cvd_idx).info()), total = 6274\n",
    "- T3, T4 have ~920 non-null, 14.6%\n",
    "- Vessels has ~3827 non-null, 60.9%\n",
    "\n",
    "All the patients with only the CVD deaths (df_cvd.info()), total = 7466 entries\n",
    "- T3, T4 have ~1300 non-null, 17.4%\n",
    "- Vessels has ~4455 non-null, 59.6%\n",
    "- LDL has ~6449 non-null, 86.3%"
   ]
  },
  {
   "cell_type": "code",
   "execution_count": 41,
   "metadata": {},
   "outputs": [],
   "source": [
    "# df_cvd.info()\n",
    "# df_cvd[df[\"CVD Death\"] == 1].info()\n",
    "# df_cvd[df[\"Fatal MI or Sudden death\"] == 1].info()\n",
    "# df.loc[nonfatal_idx].info()\n",
    "# df_cvd.drop(cvd_idx).info()"
   ]
  }
 ],
 "metadata": {
  "interpreter": {
   "hash": "31f2aee4e71d21fbe5cf8b01ff0e069b9275f58929596ceb00d14d90e3e16cd6"
  },
  "kernelspec": {
   "display_name": "Python 3.8.10 64-bit",
   "name": "python3"
  },
  "language_info": {
   "codemirror_mode": {
    "name": "ipython",
    "version": 3
   },
   "file_extension": ".py",
   "mimetype": "text/x-python",
   "name": "python",
   "nbconvert_exporter": "python",
   "pygments_lexer": "ipython3",
   "version": "3.8.10"
  },
  "orig_nbformat": 4
 },
 "nbformat": 4,
 "nbformat_minor": 2
}
