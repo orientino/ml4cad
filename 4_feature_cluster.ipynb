{
 "cells": [
  {
   "cell_type": "markdown",
   "metadata": {},
   "source": [
    "This notebook is used to cluster the features."
   ]
  },
  {
   "cell_type": "code",
   "execution_count": null,
   "metadata": {},
   "outputs": [],
   "source": [
    "import pandas as pd\n",
    "import numpy as np\n",
    "import matplotlib as mpl\n",
    "import matplotlib.pyplot as plt\n",
    "\n",
    "plt.style.use('bmh')\n",
    "mpl.rcParams.update({\n",
    "    \"grid.linestyle\" : \"dashed\",\n",
    "    \"grid.alpha\" : 0,\n",
    "    \"axes.facecolor\" : \"white\",\n",
    "    \"axes.spines.top\" : False,\n",
    "    \"axes.spines.bottom\" : False,\n",
    "    \"axes.spines.right\" : False,\n",
    "    \"axes.spines.left\" : False,\n",
    "    \"legend.frameon\" : False,\n",
    "    \"figure.figsize\" : (8, 5),\n",
    "    \"figure.dpi\" : 500,\n",
    "})\n",
    "\n",
    "%matplotlib inline"
   ]
  },
  {
   "cell_type": "code",
   "execution_count": null,
   "metadata": {},
   "outputs": [],
   "source": [
    "# Load the dataset without the target feature\n",
    "df = pd.read_csv(\"./data/data.csv\", index_col=0, decimal='.')\n",
    "df = df.iloc[:, :-1]"
   ]
  },
  {
   "cell_type": "markdown",
   "metadata": {},
   "source": [
    "### Feature Clustering Using Correlation Matrix"
   ]
  },
  {
   "cell_type": "code",
   "execution_count": null,
   "metadata": {},
   "outputs": [],
   "source": [
    "corr = df.corr(method='pearson').abs()\n",
    "threshold = 0.3\n",
    "df_cluster = pd.DataFrame()\n",
    "\n",
    "# For each column we sort the column's and get the top correlated columns by setting a threshold,\n",
    "# and save the result in a df\n",
    "for col_name in corr.columns:\n",
    "    corr_col = corr[col_name].sort_values(ascending=False)\n",
    "    corr_col = corr_col[corr_col >= threshold]\n",
    "    \n",
    "    corr_series = pd.DataFrame([\",\".join(corr_col.index.values)], index=[col_name], columns=[\"correlated_columns\"])\n",
    "    df_cluster = df_cluster.append(corr_series)\n",
    "    # print(corr_series.index.values[0])\n",
    "    # print(corr_series.values[0][0])\n",
    "    # print(\"\\n\")\n",
    "\n",
    "# df_cluster.to_csv(f\"data/data/features_clustering/feat_cluster_{threshold}.csv\")\n",
    "df_cluster.head()"
   ]
  },
  {
   "cell_type": "code",
   "execution_count": null,
   "metadata": {},
   "outputs": [],
   "source": [
    "corr1D = pd.Series(corr.values.flatten())\n",
    "corr1D = corr1D[corr1D != 1]\n",
    "corr1D = corr1D.map(lambda x: round(x, 1))\n",
    "corr_dist = corr1D.value_counts().sort_index()\n",
    "corr_dist = corr_dist[corr_dist.index >= threshold]\n",
    "corr_dist.plot(kind=\"bar\", fontsize=6)\n",
    "plt.title(\"Correlation Features Distribution\")\n",
    "\n",
    "print(f\"Correlation (>= {threshold}) size: {corr_dist[corr_dist.index >= threshold].sum()/2} / {len(corr1D/2)}\")"
   ]
  },
  {
   "cell_type": "markdown",
   "metadata": {},
   "source": [
    "### Feature Clustering Using Correlation Matrix + Hierarchical Clustering\n",
    "[Clustering using a matrix of correlation coeff](https://stackoverflow.com/questions/38070478/how-to-do-clustering-using-the-matrix-of-correlation-coefficients)\n",
    "\n",
    "[S v P](https://stats.stackexchange.com/questions/8071/how-to-choose-between-pearson-and-spearman-correlatio) considerations\n",
    "- Spearman checks only the monotonic relationships (less assumptions, more resistant to outliers)\n",
    "- Pearson checks the linear relationships"
   ]
  },
  {
   "cell_type": "code",
   "execution_count": null,
   "metadata": {},
   "outputs": [],
   "source": [
    "df.columns"
   ]
  },
  {
   "cell_type": "code",
   "execution_count": null,
   "metadata": {},
   "outputs": [],
   "source": [
    "df = df.rename(columns={\n",
    "    \"Smoke\\nHistory of smoke\": \"Smoke\",\n",
    "    \"Diabetes\\nHistory of diabetes\": \"Diabetes\",\n",
    "    \"Hypertension\\nHistory of hypertension\": \"Hypertension\",\n",
    "    \"Hyperlipemia\\nHistoty of hyperlipemia\": \"Dyslipidemia\",\n",
    "    \"FE\": \"LVEF\",\n",
    "    \"Gender (Male = 1)\": \"Gender\",\n",
    "    \"Previous Myocardial Infarction\": \"Previous MI\",\n",
    "    \"Previous PCI\": \"PCI\",\n",
    "    \"Acute Myocardial Infarction\": \"Acute MI\",\n",
    "    \"Post-ischemic Dilated\\nCardiomyopathy\": \"Post IDC\",\n",
    "})"
   ]
  },
  {
   "cell_type": "code",
   "execution_count": null,
   "metadata": {},
   "outputs": [],
   "source": [
    "from scipy.cluster import hierarchy\n",
    "from scipy.spatial.distance import pdist, squareform\n",
    "\n",
    "# 1) Compute the correlation (similarity) and distance (dissimilarity)\n",
    "corr = df.corr(method=\"spearman\")  \n",
    "dist = 1 - corr.abs()\n",
    "\n",
    "# 2) Transform the distance matrix into a condensed distance vector\n",
    "dist_condense = pdist(dist)\n",
    "\n",
    "# 3) Create the hierarchical clustering using the condensend distance vector\n",
    "hier = hierarchy.linkage(dist_condense, method=\"weighted\")\n",
    "threshold = 1.3\n",
    "cluster_labels = hierarchy.fcluster(hier, threshold, criterion=\"distance\")\n",
    "print(f\"Number of clusters: {len(set(cluster_labels))}\")\n",
    "\n",
    "# Plot\n",
    "# Choose threshold using dendrogram or any other method (e.g. quantile or desired number of features)\n",
    "plt.figure(figsize=(9, 7.5), dpi=400)\n",
    "# plt.title(\"Hierarchy Clustering of Features\")\n",
    "plt.tick_params(labelbottom=False, bottom=False)\n",
    "dend = hierarchy.dendrogram(\n",
    "    hier, \n",
    "    truncate_mode=\"level\", \n",
    "    p=30, \n",
    "    color_threshold=threshold, \n",
    "    above_threshold_color='#444444',\n",
    "    labels=corr.columns, \n",
    "    orientation=\"left\", \n",
    "    leaf_font_size=12\n",
    ")\n",
    "plt.savefig(\"./figures/cluster.tiff\", format=\"tiff\", dpi=400, bbox_inches=\"tight\")"
   ]
  },
  {
   "cell_type": "code",
   "execution_count": null,
   "metadata": {},
   "outputs": [],
   "source": [
    "# Save each group feature\n",
    "df_cluster = pd.DataFrame({'ClusterID': cluster_labels,\n",
    "                           'Feature': df.columns})\n",
    "df_cluster = df_cluster.groupby(['ClusterID'])\n",
    "df_cluster = df_cluster['Feature'].apply(lambda x: list(x)).reset_index()['Feature']\n",
    "df_cluster.to_pickle('data/results/feat_cluster_hier.df')"
   ]
  },
  {
   "cell_type": "code",
   "execution_count": null,
   "metadata": {},
   "outputs": [],
   "source": [
    "from scipy.cluster.hierarchy import cophenet\n",
    "from sklearn.metrics import silhouette_score\n",
    "# Cophenet correlation measure how faithfully the dendrogram preserves the original data point's distance\n",
    "# Cophenet = optimal when -> 1\n",
    "# https://en.wikipedia.org/wiki/Cophenetic_correlation\n",
    "c, coph_dists = cophenet(hier, pdist(dist))\n",
    "c"
   ]
  }
 ],
 "metadata": {
  "kernelspec": {
   "display_name": "Python 3.9.7 ('natpn-improve')",
   "language": "python",
   "name": "python3"
  },
  "language_info": {
   "codemirror_mode": {
    "name": "ipython",
    "version": 3
   },
   "file_extension": ".py",
   "mimetype": "text/x-python",
   "name": "python",
   "nbconvert_exporter": "python",
   "pygments_lexer": "ipython3",
   "version": "3.9.7"
  },
  "orig_nbformat": 4,
  "vscode": {
   "interpreter": {
    "hash": "5688027ca59d69ed77c02998d74f34c37d32890800deaafdffc8abeb6170b97d"
   }
  }
 },
 "nbformat": 4,
 "nbformat_minor": 2
}
