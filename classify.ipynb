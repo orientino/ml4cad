{
 "cells": [
  {
   "cell_type": "markdown",
   "source": [
    "## Classification\n",
    "1. Feature processing: scaling, selection\n",
    "2. Classify"
   ],
   "metadata": {}
  },
  {
   "cell_type": "code",
   "execution_count": 142,
   "source": [
    "import pandas as pd\n",
    "import numpy as np\n",
    "import matplotlib.pyplot as plt\n",
    "from random import sample\n",
    "\n",
    "plt.style.use('ggplot')\n",
    "%matplotlib inline"
   ],
   "outputs": [],
   "metadata": {}
  },
  {
   "cell_type": "code",
   "execution_count": 146,
   "source": [
    "# utility function to report best scores\n",
    "def report(results, n_top=3):\n",
    "    for i in range(1, n_top + 1):\n",
    "        candidates = np.flatnonzero(results['rank_test_score'] == i)\n",
    "        for candidate in candidates[:1]:\n",
    "            print(\"Model rank: {0}\".format(i))\n",
    "            print(\"Mean validation score: {0:.3f} (std: {1:.3f})\"\n",
    "                  .format(results['mean_test_score'][candidate],\n",
    "                          results['std_test_score'][candidate]))\n",
    "            print(\"Parameters: {0}\".format(results['params'][candidate]))\n",
    "            print(\"\")\n",
    "\n",
    "# undersample the positive class of a dataset, make it more balanced\n",
    "def undersample(X, y, percentage=0.5):\n",
    "    X_pos = X[y==1]\n",
    "    X_neg = X[y==0]\n",
    "    undersample = sample(list(range(len(X_pos))), round(len(X_pos)*percentage))\n",
    "    X_u = np.concatenate([X_pos[undersample, :], X_neg], axis=0)\n",
    "    y_u = np.concatenate([y[undersample], y[y==0]], axis=0)\n",
    "\n",
    "    print(\"\\t\\t Positive \\t Negative\")\n",
    "    print(f\"Before undersampling:\\t {len(X_pos)} \\t {len(X_neg)}\")\n",
    "    print(f\"After undersampling:\\t {len(undersample)} \\t {len(X_neg)}\")\n",
    "    return X_u, y_u\n",
    "\n",
    "X_train, y_train = undersample(X_train, y_train)"
   ],
   "outputs": [
    {
     "output_type": "stream",
     "name": "stdout",
     "text": [
      "\t\t Positive \t Negative\n",
      "Before undersampling:\t (Positive) 1620, (Negative) 535\n",
      "After undersampling:\t (Positive) 810, (Negative) 535\n"
     ]
    }
   ],
   "metadata": {}
  },
  {
   "cell_type": "code",
   "execution_count": 144,
   "source": [
    "# 2. feature processing\n",
    "import scipy.stats as stats\n",
    "from joblib import dump, load\n",
    "from sklearn.preprocessing import StandardScaler, MinMaxScaler, MaxAbsScaler\n",
    "from sklearn.decomposition import PCA\n",
    "from sklearn.pipeline import Pipeline\n",
    "from sklearn.compose import ColumnTransformer\n",
    "from sklearn.model_selection import GridSearchCV, RandomizedSearchCV, learning_curve, validation_curve\n",
    "from sklearn.metrics import classification_report, confusion_matrix, ConfusionMatrixDisplay, f1_score, accuracy_score, plot_confusion_matrix\n",
    "\n",
    "df_train = pd.read_csv(\"data/train.csv\", index_col=0).to_numpy()\n",
    "df_valid = pd.read_csv(\"data/valid.csv\", index_col=0).to_numpy()\n",
    "X_train, y_train = df_train[:, :-1], df_train[:, -1]\n",
    "X_valid, y_valid = df_valid[:, :-1], df_valid[:, -1]\n",
    "\n",
    "# numerical_features = list(range(8))\n",
    "numerical_features = list(range(8))+list(range(20, 24))\n",
    "# numerical_features = list(range(len(X_train[0])))\n",
    "preprocess_std = ColumnTransformer(\n",
    "                            transformers = [('stand', StandardScaler(), numerical_features)], \n",
    "                            remainder=\"passthrough\"\n",
    "                            )\n",
    "\n",
    "preprocess_minmax = ColumnTransformer(\n",
    "                            transformers = [('minmax', MinMaxScaler(), numerical_features)], \n",
    "                            remainder=\"passthrough\"\n",
    "                            )\n",
    "\n",
    "preprocess_maxabs = ColumnTransformer(\n",
    "                            transformers = [('maxabs', MaxAbsScaler(), numerical_features)], \n",
    "                            remainder=\"passthrough\"\n",
    "                            )\n",
    "\n",
    "from sklearn.feature_selection import SelectKBest, SelectPercentile, f_classif, chi2\n",
    "X_indices = np.arange(df_train.shape[-1]-1)\n",
    "# selector = SelectKBest(f_classif, k=15)\n",
    "selector = SelectKBest(chi2, k=15)\n",
    "selector.fit(X_train, y_train)\n",
    "scores = -np.log10(selector.pvalues_)\n",
    "scores /= scores.max()\n",
    "plt.bar(X_indices, scores)\n",
    "# plt.bar(X_indices, selector.pvalues_)"
   ],
   "outputs": [
    {
     "output_type": "execute_result",
     "data": {
      "text/plain": [
       "<BarContainer object of 39 artists>"
      ]
     },
     "metadata": {},
     "execution_count": 144
    },
    {
     "output_type": "display_data",
     "data": {
      "text/plain": [
       "<Figure size 432x288 with 1 Axes>"
      ],
      "image/png": "[encoded data removed]"
     },
     "metadata": {}
    }
   ],
   "metadata": {}
  },
  {
   "cell_type": "code",
   "execution_count": 109,
   "source": [
    "from sklearn.metrics import make_scorer\n",
    "f1_macro_negative = make_scorer(f1_score, pos_label=0)\n",
    "\n",
    "def custom(y_true, y_pred):\n",
    "    tp = ((y_true==1) & (y_pred==1)).sum()\n",
    "    tn = ((y_true==0) & (y_pred==0)).sum()\n",
    "    fp = ((y_true==0) & (y_pred==1)).sum()\n",
    "    fn = ((y_true==1) & (y_pred==0)).sum()\n",
    "    # return fp / (tn + tp)\n",
    "    # return fp\n",
    "    if tp <= 100:\n",
    "        return 100\n",
    "    else: \n",
    "        return fp / (fp + tn)\n",
    "\n",
    "score = make_scorer(custom, greater_is_better=False)"
   ],
   "outputs": [],
   "metadata": {}
  },
  {
   "cell_type": "code",
   "execution_count": 136,
   "source": [
    "# 3. classify\n",
    "# FP = network says survive=T but data says survive=F\n",
    "# FN = network says survive=F but data says survive=T\n",
    "# the goal is to minimize the FP, we don't want the model to \"hide the sick patients\"\n",
    "from sklearn.linear_model import LogisticRegression\n",
    "\n",
    "logreg = LogisticRegression(solver=\"lbfgs\", class_weight=\"balanced\")\n",
    "pipe = Pipeline(steps=[\n",
    "                    ('selection', selector), \n",
    "                    ('preprocess', StandardScaler()), \n",
    "                    # ('preprocess', preprocess_std), \n",
    "                    ('model', logreg)\n",
    "                ])\n",
    "pipe.fit(X_train, y_train)\n",
    "y = pipe.predict(X_valid)\n",
    "\n",
    "print(classification_report(y_valid, y, digits=3))\n",
    "plot_confusion_matrix(pipe, X_valid, y_valid, normalize=None)\n",
    "plt.grid(False)\n",
    "\n",
    "# import math\n",
    "# w = logreg.coef_[0]\n",
    "# feature_importance = pd.DataFrame(df_feat.columns[:-1], columns=[\"features\"])\n",
    "# feature_importance[\"importance\"] = pow(math.e, w)\n",
    "# feature_importance = feature_importance.sort_values(by = [\"importance\"], ascending=False)\n",
    "# feature_importance"
   ],
   "outputs": [
    {
     "output_type": "stream",
     "name": "stdout",
     "text": [
      "              precision    recall  f1-score   support\n",
      "\n",
      "         0.0      0.230     0.723     0.349        94\n",
      "         1.0      0.962     0.744     0.839       890\n",
      "\n",
      "    accuracy                          0.742       984\n",
      "   macro avg      0.596     0.734     0.594       984\n",
      "weighted avg      0.892     0.742     0.792       984\n",
      "\n"
     ]
    },
    {
     "output_type": "display_data",
     "data": {
      "text/plain": [
       "<Figure size 432x288 with 2 Axes>"
      ],
      "image/png": "[encoded data removed]"
     },
     "metadata": {}
    }
   ],
   "metadata": {}
  },
  {
   "cell_type": "code",
   "execution_count": 134,
   "source": [
    "from sklearn.svm import SVC\n",
    "\n",
    "hyperparams = {\n",
    "    'model__C': stats.randint(1, 30),\n",
    "    'model__kernel': ['rbf'],\n",
    "    'model__degree': stats.randint(20, 80),\n",
    "    'model__max_iter': stats.randint(500, 1500)\n",
    "}\n",
    "\n",
    "pipe = Pipeline(steps=[\n",
    "                    ('selection', selector), \n",
    "                    ('preprocess', StandardScaler()), \n",
    "                    # ('preprocess', preprocess_std), \n",
    "                    ('model', SVC(class_weight=\"balanced\"))\n",
    "                ])\n",
    "svc_rand = RandomizedSearchCV(pipe,\n",
    "                            param_distributions=hyperparams,\n",
    "                            # scoring='f1_macro',\n",
    "                            # scoring=score,\n",
    "                            scoring=f1_macro_negative,\n",
    "                            n_iter=100,\n",
    "                            cv=2,\n",
    "                            n_jobs=-1,  # use all processors\n",
    "                            refit=True,  # refit the best model at the end\n",
    "                            return_train_score=True,\n",
    "                            verbose=True).fit(X_train, y_train)\n",
    "y = svc_rand.best_estimator_.predict(X_valid)\n",
    "\n",
    "print(classification_report(y_valid, y, digits=3))\n",
    "plot_confusion_matrix(svc_rand.best_estimator_, X_valid, y_valid, normalize=None)\n",
    "plt.grid(False)\n",
    "report(svc_rand.cv_results_, n_top=3)\n",
    "\n",
    "# save and load\n",
    "# dump(svc_rand.best_estimator_[\"model\"], \"models/svc_fp13.joblib\")\n",
    "# test = load(\"models/svc_fp13.joblib\")"
   ],
   "outputs": [
    {
     "output_type": "stream",
     "name": "stdout",
     "text": [
      "Fitting 2 folds for each of 100 candidates, totalling 200 fits\n"
     ]
    },
    {
     "output_type": "stream",
     "name": "stderr",
     "text": [
      "/home/dot/.local/lib/python3.8/site-packages/sklearn/svm/_base.py:255: ConvergenceWarning: Solver terminated early (max_iter=1294).  Consider pre-processing your data with StandardScaler or MinMaxScaler.\n",
      "  warnings.warn('Solver terminated early (max_iter=%i).'\n"
     ]
    },
    {
     "output_type": "stream",
     "name": "stdout",
     "text": [
      "              precision    recall  f1-score   support\n",
      "\n",
      "         0.0      0.147     0.926     0.254        94\n",
      "         1.0      0.982     0.434     0.602       890\n",
      "\n",
      "    accuracy                          0.481       984\n",
      "   macro avg      0.565     0.680     0.428       984\n",
      "weighted avg      0.902     0.481     0.568       984\n",
      "\n",
      "Model rank: 1\n",
      "Mean validation score: 0.340 (std: 0.005)\n",
      "Parameters: {'model__C': 1, 'model__degree': 54, 'model__kernel': 'rbf', 'model__max_iter': 1294}\n",
      "\n",
      "Model rank: 2\n",
      "Mean validation score: 0.339 (std: 0.005)\n",
      "Parameters: {'model__C': 1, 'model__degree': 75, 'model__kernel': 'rbf', 'model__max_iter': 1350}\n",
      "\n",
      "Model rank: 3\n",
      "Mean validation score: 0.338 (std: 0.007)\n",
      "Parameters: {'model__C': 1, 'model__degree': 77, 'model__kernel': 'rbf', 'model__max_iter': 1139}\n",
      "\n"
     ]
    },
    {
     "output_type": "display_data",
     "data": {
      "text/plain": [
       "<Figure size 432x288 with 2 Axes>"
      ],
      "image/png": "[encoded data removed]"
     },
     "metadata": {}
    }
   ],
   "metadata": {}
  },
  {
   "cell_type": "code",
   "execution_count": 135,
   "source": [
    "from sklearn.ensemble import RandomForestClassifier\n",
    "\n",
    "hyperparams = {\n",
    "    'model__n_estimators': stats.randint(30, 60),\n",
    "    'model__criterion': ('gini', 'entropy'),\n",
    "    'model__max_depth': stats.randint(1, 20),\n",
    "    'model__min_samples_split': stats.randint(2, 10),\n",
    "    'model__min_samples_leaf': stats.randint(1, 5),\n",
    "    'model__max_features': ('sqrt', 'log2'),\n",
    "}\n",
    "\n",
    "# pipe = Pipeline(steps=[('model', RandomForestClassifier(class_weight=\"balanced\"))])\n",
    "# pipe = Pipeline(steps=[('preprocess', preprocess_std), ('model', RandomForestClassifier(class_weight=\"balanced\"))])\n",
    "pipe = Pipeline(steps=[\n",
    "                    ('selection', selector), \n",
    "                    ('preprocess', StandardScaler()), \n",
    "                    ('model', RandomForestClassifier(class_weight=\"balanced\"))\n",
    "                ])\n",
    "rf_rand = RandomizedSearchCV(pipe,\n",
    "                            param_distributions=hyperparams,\n",
    "                            # scoring='precision',\n",
    "                            scoring=f1_macro_negative,\n",
    "                            # scoring=\"f1_macro\",\n",
    "                            # scoring=score,\n",
    "                            n_iter=500,\n",
    "                            cv=2,\n",
    "                            n_jobs=-1,  # use all processors\n",
    "                            refit=True,  # refit the best model at the end\n",
    "                            return_train_score=True,\n",
    "                            verbose=True).fit(X_train, y_train)\n",
    "y = rf_rand.best_estimator_.predict(X_valid)\n",
    "\n",
    "print(classification_report(y_valid, y, digits=3))\n",
    "plot_confusion_matrix(rf_rand.best_estimator_, X_valid, y_valid, normalize=None)\n",
    "plt.grid(False)\n",
    "\n",
    "report(rf_rand.cv_results_)\n",
    "\n",
    "# feature importance use permutation importance\n",
    "# importance = rf_rand.best_estimator_[\"model\"].feature_importances_\n",
    "# plt.bar(list(range(len(importance))), importance)\n",
    "\n",
    "# save and load\n",
    "# dump(rf_rand.best_estimator_[\"model\"], \"models/rf_fp33_fn204_customscore.joblib\")\n",
    "# test = load(\"models/svc_fp13.joblib\")"
   ],
   "outputs": [
    {
     "output_type": "stream",
     "name": "stdout",
     "text": [
      "Fitting 2 folds for each of 500 candidates, totalling 1000 fits\n",
      "              precision    recall  f1-score   support\n",
      "\n",
      "         0.0      0.253     0.617     0.359        94\n",
      "         1.0      0.952     0.808     0.874       890\n",
      "\n",
      "    accuracy                          0.790       984\n",
      "   macro avg      0.603     0.712     0.617       984\n",
      "weighted avg      0.886     0.790     0.825       984\n",
      "\n",
      "Model rank: 1\n",
      "Mean validation score: 0.382 (std: 0.024)\n",
      "Parameters: {'model__criterion': 'entropy', 'model__max_depth': 5, 'model__max_features': 'log2', 'model__min_samples_leaf': 3, 'model__min_samples_split': 3, 'model__n_estimators': 59}\n",
      "\n",
      "Model rank: 2\n",
      "Mean validation score: 0.379 (std: 0.015)\n",
      "Parameters: {'model__criterion': 'entropy', 'model__max_depth': 5, 'model__max_features': 'log2', 'model__min_samples_leaf': 4, 'model__min_samples_split': 2, 'model__n_estimators': 48}\n",
      "\n",
      "Model rank: 3\n",
      "Mean validation score: 0.378 (std: 0.006)\n",
      "Parameters: {'model__criterion': 'entropy', 'model__max_depth': 5, 'model__max_features': 'sqrt', 'model__min_samples_leaf': 3, 'model__min_samples_split': 4, 'model__n_estimators': 40}\n",
      "\n"
     ]
    },
    {
     "output_type": "display_data",
     "data": {
      "text/plain": [
       "<Figure size 432x288 with 2 Axes>"
      ],
      "image/png": "[encoded data removed]"
     },
     "metadata": {}
    }
   ],
   "metadata": {}
  },
  {
   "cell_type": "code",
   "execution_count": 141,
   "source": [
    "# from sklearn.neural_network import MLPClassifier\n",
    "\n",
    "# pipeline = Pipeline([('estimator', MLPClassifier())])\n",
    "\n",
    "# hyperparams = {\n",
    "#     'estimator__hidden_layer_sizes': stats.randint(10, 50),\n",
    "#     # 'estimator__activation': ('logistic', 'tanh', 'relu'),\n",
    "#     'estimator__solver': ('lbfgs', 'sgd', 'adam'),\n",
    "#     'estimator__learning_rate_init': stats.uniform(0.001, 0.01),\n",
    "#     # 'estimator__alpha': stats.uniform(),\n",
    "#     'estimator__max_iter': stats.randint(25, 200),\n",
    "# }\n",
    "\n",
    "# nn_rand = RandomizedSearchCV(pipeline,\n",
    "#                             param_distributions=hyperparams,\n",
    "#                             scoring='f1_macro',\n",
    "#                             n_iter=200,\n",
    "#                             cv=2,\n",
    "#                             n_jobs=-1,  # use all processors\n",
    "#                             refit=True,  # refit the best model at the end\n",
    "#                             return_train_score=True,\n",
    "#                             verbose=True).fit(X_train, y_train)\n",
    "\n",
    "# y = nn_rand.best_estimator_.predict(X_valid)\n",
    "# print(classification_report(y_valid, y, digits=3))\n",
    "# plot_confusion_matrix(nn_rand.best_estimator_, X_valid, y_valid, normalize=None)\n",
    "# plt.grid(False)"
   ],
   "outputs": [],
   "metadata": {}
  }
 ],
 "metadata": {
  "interpreter": {
   "hash": "31f2aee4e71d21fbe5cf8b01ff0e069b9275f58929596ceb00d14d90e3e16cd6"
  },
  "kernelspec": {
   "display_name": "Python 3.8.10 64-bit",
   "name": "python3"
  },
  "language_info": {
   "codemirror_mode": {
    "name": "ipython",
    "version": 3
   },
   "file_extension": ".py",
   "mimetype": "text/x-python",
   "name": "python",
   "nbconvert_exporter": "python",
   "pygments_lexer": "ipython3",
   "version": "3.8.10"
  },
  "orig_nbformat": 4
 },
 "nbformat": 4,
 "nbformat_minor": 2
}