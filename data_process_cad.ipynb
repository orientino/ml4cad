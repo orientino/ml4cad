{
 "cells": [
  {
   "cell_type": "markdown",
   "metadata": {},
   "source": [
    "## 1- Filter CVD Death Patients\n",
    "Remove all the NON-CVD death patients. Here we take in input the original dataset and output the original dataset with only CVD Death patients:\n",
    "- Input: data.csv\n",
    "- Output: data_cvd.csv"
   ]
  },
  {
   "cell_type": "code",
   "execution_count": 1,
   "metadata": {},
   "outputs": [],
   "source": [
    "import pandas as pd\n",
    "import numpy as np\n",
    "import matplotlib.pyplot as plt\n",
    "\n",
    "plt.style.use('ggplot')\n",
    "%matplotlib inline"
   ]
  },
  {
   "cell_type": "code",
   "execution_count": 2,
   "metadata": {},
   "outputs": [],
   "source": [
    "# load data\n",
    "df = pd.read_csv(\"./data/cad/data.csv\", index_col=0, decimal='.')\n",
    "df.convert_dtypes()\n",
    "df[\"Follow Up Data\"] = pd.to_datetime(df[\"Follow Up Data\"], format=\"%m/%d/%Y\")\n",
    "df[\"Data prelievo\"] = pd.to_datetime(df[\"Data prelievo\"], format=\"%m/%d/%Y\")"
   ]
  },
  {
   "cell_type": "code",
   "execution_count": 3,
   "metadata": {},
   "outputs": [
    {
     "name": "stdout",
     "output_type": "stream",
     "text": [
      "Total deaths: 1587\n",
      "Death CVD: 757\n",
      "Death Non-CVD: 830\n",
      "\n",
      "Total patients: 4817\n",
      "Total patients (after removal of Death Non-CVD): 3987\n"
     ]
    }
   ],
   "source": [
    "# remove ONLY and ALL the deaths patients NON-CVD (Fatal MI or Sudden death, UnKnown, Accident, Suicide)\n",
    "total = df[df[\"Total mortality\"]==1].index\n",
    "cvd_idx = df[df[\"CVD Death\"]==1].index\n",
    "noncvd_idx = set(total) - set(cvd_idx)\n",
    "\n",
    "print(f\"Total deaths: {len(total)}\")\n",
    "print(f\"Death CVD: {len(cvd_idx)}\")\n",
    "print(f\"Death Non-CVD: {len(noncvd_idx)}\")\n",
    "\n",
    "df_cvd = df.drop(noncvd_idx)\n",
    "print(f\"\\nTotal patients: {len(df)}\")\n",
    "print(f\"Total patients (after removal of Death Non-CVD): {len(df_cvd)}\")\n",
    "# df.info()\n",
    "\n",
    "assert len(noncvd_idx) == len(total) - len(cvd_idx)\n",
    "assert len(df.columns) == len(df_cvd.columns)\n",
    "# df_cvd.to_csv(\"data/cad/data_cvd.csv\")"
   ]
  },
  {
   "cell_type": "markdown",
   "metadata": {},
   "source": [
    "## 2- Clean Irrelevant Features\n",
    "From the only CVD death patients, we remove all the irrelevant features for the classification task. We also create a target feature. \n",
    "- Input: data_cvd.csv\n",
    "- Output: data_cvd_clean.csv"
   ]
  },
  {
   "cell_type": "code",
   "execution_count": 4,
   "metadata": {},
   "outputs": [],
   "source": [
    "df_cvd = pd.read_csv(\"./data/cad/data_cvd.csv\", index_col=0, decimal='.')\n",
    "df_cvd[\"Follow Up Data\"] = pd.to_datetime(df_cvd[\"Follow Up Data\"])\n",
    "df_cvd[\"Data prelievo\"] = pd.to_datetime(df_cvd[\"Data prelievo\"])"
   ]
  },
  {
   "cell_type": "code",
   "execution_count": 5,
   "metadata": {},
   "outputs": [
    {
     "data": {
      "text/plain": [
       "Text(0, 0.5, 'Number of patients')"
      ]
     },
     "execution_count": 5,
     "metadata": {},
     "output_type": "execute_result"
    },
    {
     "data": {
      "image/png": "[encoded data removed]",
      "text/plain": [
       "<Figure size 432x288 with 1 Axes>"
      ]
     },
     "metadata": {
      "needs_background": "light"
     },
     "output_type": "display_data"
    }
   ],
   "source": [
    "# compute difference between dates: follow up and admission\n",
    "df_diff = (df_cvd[\"Follow Up Data\"] - df_cvd[\"Data prelievo\"]).map(lambda x: x.days // 365)\n",
    "df_diff.value_counts().sort_index().plot(kind='bar')\n",
    "plt.title(\"Distribution of the difference between Follow up - Recovery\")\n",
    "plt.xlabel(\"Years\")\n",
    "plt.ylabel(\"Number of patients\")"
   ]
  },
  {
   "cell_type": "code",
   "execution_count": 6,
   "metadata": {},
   "outputs": [
    {
     "name": "stdout",
     "output_type": "stream",
     "text": [
      "Total patient: \t 3987\n",
      "Survived: \t 3358 \t 0.8422372711311763\n",
      "Dead: \t\t 629 \t 0.15776272886882367\n"
     ]
    }
   ],
   "source": [
    "# complete vessels feature, if CAD == 0 then Vessels can be set to 0, otherwise we don't know the Vessels\n",
    "for i in df_cvd.index:\n",
    "    if (pd.isna(df_cvd[\"Vessels\"][i]) and df_cvd[\"CAD\"][i]==0):\n",
    "        df_cvd.loc[i, \"Vessels\"] = 0\n",
    "    elif (pd.isna(df_cvd[\"Vessels\"][i]) and df_cvd[\"CAD\"][i]==1):\n",
    "        df_cvd.loc[i, \"Vessels\"] = -1\n",
    "\n",
    "# clean features remove follow up features\n",
    "df_feat = df_cvd.copy()\n",
    "df_feat = pd.concat([df_feat.iloc[:, :30], df_feat.iloc[:, 40:]], axis=1)\n",
    "df_feat = df_feat.drop(columns=[\"Data of death\", \"Data prelievo\", \"Follow Up Data\", \"Durata Follow Up\",\n",
    "                                \"Fatal MI or Sudden death\", \"UnKnown\", \"Accident\", \"Total mortality\", \n",
    "                                \"CVD Death\", \"CAD\"])\n",
    "\n",
    "# create and add target feature\n",
    "years = 7\n",
    "survive = (df_diff < years) & df_cvd[\"CVD Death\"]\n",
    "survive = (survive + 1) % 2\n",
    "df_feat[f\"Survive{years}Y\"] = survive\n",
    "\n",
    "print(\"Total patient: \\t\", len(df_feat))\n",
    "print(\"Survived: \\t\", df_feat[f\"Survive{years}Y\"].sum(), \"\\t\", df_feat[f\"Survive{years}Y\"].sum()/len(df_feat))\n",
    "print(\"Dead: \\t\\t\", len(df_feat)-df_feat[f\"Survive{years}Y\"].sum(), \"\\t\", (len(df_feat)-df_feat[f\"Survive{years}Y\"].sum())/len(df_feat))\n",
    "df_feat = df_feat.convert_dtypes()\n",
    "# df_feat.info()\n",
    "\n",
    "df_feat.to_csv(\"data/cad/data_feat.csv\")"
   ]
  },
  {
   "cell_type": "markdown",
   "metadata": {},
   "source": [
    "## Extra utilities\n",
    "Create and save the subset datagroups"
   ]
  },
  {
   "cell_type": "code",
   "execution_count": 7,
   "metadata": {},
   "outputs": [],
   "source": [
    "# dataset train, valid, test split\n",
    "def split_and_save(df, path, verbose=True):\n",
    "    from sklearn.model_selection import train_test_split\n",
    "    df_train, df_test = train_test_split(df, test_size=0.2, stratify=df.iloc[:,-1])\n",
    "    df_train, df_valid = train_test_split(df_train, test_size=0.25, stratify=df_train.iloc[:,-1])\n",
    "\n",
    "    df_train.to_csv(f\"{path}train.csv\")\n",
    "    df_valid.to_csv(f\"{path}valid.csv\")\n",
    "    df_test.to_csv(f\"{path}test.csv\")\n",
    "\n",
    "    if verbose: \n",
    "        print(\"Train: \\t\", len(df_train))\n",
    "        print(\"Valid: \\t\", len(df_valid))\n",
    "        print(\"Test: \\t\", len(df_test))"
   ]
  },
  {
   "cell_type": "code",
   "execution_count": 10,
   "metadata": {},
   "outputs": [
    {
     "name": "stdout",
     "output_type": "stream",
     "text": [
      "Train: \t 2391\n",
      "Valid: \t 798\n",
      "Test: \t 798\n"
     ]
    }
   ],
   "source": [
    "split_and_save(df_feat, \"data/cad/\")"
   ]
  },
  {
   "cell_type": "code",
   "execution_count": 11,
   "metadata": {},
   "outputs": [
    {
     "name": "stdout",
     "output_type": "stream",
     "text": [
      "Counter({1: 2014, 0: 377})\n",
      "Counter({1: 672, 0: 126})\n",
      "Counter({1: 672, 0: 126})\n"
     ]
    }
   ],
   "source": [
    "from collections import Counter\n",
    "df_train = pd.read_csv(\"./data/cad/train.csv\", index_col=0, decimal='.')\n",
    "df_valid = pd.read_csv(\"./data/cad/valid.csv\", index_col=0, decimal='.')\n",
    "df_test = pd.read_csv(\"./data/cad/test.csv\", index_col=0, decimal='.')\n",
    "print(Counter(df_train[\"Survive7Y\"]))\n",
    "print(Counter(df_valid[\"Survive7Y\"]))\n",
    "print(Counter(df_test[\"Survive7Y\"]))"
   ]
  },
  {
   "cell_type": "code",
   "execution_count": 25,
   "metadata": {},
   "outputs": [],
   "source": [
    "import seaborn as sns\n",
    "fig, ax = plt.subplots(figsize=(35,30))\n",
    "sns.heatmap(df_feat.corr(), annot=True)\n",
    "# fig.savefig(\"feat.pdf\")"
   ]
  }
 ],
 "metadata": {
  "interpreter": {
   "hash": "31f2aee4e71d21fbe5cf8b01ff0e069b9275f58929596ceb00d14d90e3e16cd6"
  },
  "kernelspec": {
   "display_name": "Python 3.8.10 64-bit",
   "name": "python3"
  },
  "language_info": {
   "codemirror_mode": {
    "name": "ipython",
    "version": 3
   },
   "file_extension": ".py",
   "mimetype": "text/x-python",
   "name": "python",
   "nbconvert_exporter": "python",
   "pygments_lexer": "ipython3",
   "version": "3.9.7"
  },
  "orig_nbformat": 4
 },
 "nbformat": 4,
 "nbformat_minor": 2
}
