{
 "cells": [
  {
   "cell_type": "markdown",
   "metadata": {},
   "source": [
    "## Process Data"
   ]
  },
  {
   "cell_type": "code",
   "execution_count": 47,
   "metadata": {},
   "outputs": [],
   "source": [
    "import pandas as pd\n",
    "import numpy as np\n",
    "import matplotlib.pyplot as plt\n",
    "\n",
    "plt.style.use('ggplot')\n",
    "%matplotlib inline"
   ]
  },
  {
   "cell_type": "code",
   "execution_count": 48,
   "metadata": {},
   "outputs": [],
   "source": [
    "df = pd.read_csv(\"./data/data/data_cvd.csv\", index_col=0, decimal='.')\n",
    "df = df.convert_dtypes()\n",
    "# df.info()"
   ]
  },
  {
   "cell_type": "code",
   "execution_count": 49,
   "metadata": {},
   "outputs": [
    {
     "name": "stdout",
     "output_type": "stream",
     "text": [
      "<class 'pandas.core.frame.DataFrame'>\n",
      "Int64Index: 4762 entries, 8986 to 1193\n",
      "Data columns (total 68 columns):\n",
      " #   Column                                      Non-Null Count  Dtype  \n",
      "---  ------                                      --------------  -----  \n",
      " 0   Age (1)                                     4762 non-null   Int64  \n",
      " 1   Gender (Male = 1)                           4762 non-null   Int64  \n",
      " 2   Angina                                      4762 non-null   Int64  \n",
      " 3   Previous CABG                               4762 non-null   Int64  \n",
      " 4   Previous PCI                                4762 non-null   Int64  \n",
      " 5   Previous \n",
      "Myocardial Infarction             4762 non-null   Int64  \n",
      " 6   Acute \n",
      "Myocardial Infarction                4762 non-null   Int64  \n",
      " 7   Angiography                                 4762 non-null   Int64  \n",
      " 8   Vessels                                     3041 non-null   Float64\n",
      " 9   CAD                                         4762 non-null   Int64  \n",
      " 10  Smoke\n",
      "History of smoke                      4762 non-null   Int64  \n",
      " 11  Diabetes\n",
      "History of diabetes                4762 non-null   Int64  \n",
      " 12  Hypertension\n",
      "History of hypertension        4762 non-null   Int64  \n",
      " 13  Dyslipidemia\n",
      "Hystory of dyslipidemia        4762 non-null   Int64  \n",
      " 14  Family history of CAD                       4762 non-null   Int64  \n",
      " 15  Obesity\n",
      "History of obesity                  4762 non-null   Int64  \n",
      " 16  Documented resting \n",
      "or exertional ischemia  4762 non-null   Int64  \n",
      " 17  Post-ischemic Dilated\n",
      "Cardiomyopathy        4762 non-null   Int64  \n",
      " 18  Primary Dilated\n",
      "Cardiomyopathy              4762 non-null   Int64  \n",
      " 19  Atrial Fibrillation                         4762 non-null   Int64  \n",
      " 20  Paroxysmal atrial fibrillation              4762 non-null   Int64  \n",
      " 21  B-Blockers                                  4762 non-null   Int64  \n",
      " 22  Amiodarone                                  4762 non-null   Int64  \n",
      " 23  Calcium channel blockers                    4762 non-null   Int64  \n",
      " 24  Diuretics                                   4762 non-null   Int64  \n",
      " 25  Antiplatelet                                4762 non-null   Int64  \n",
      " 26  Nitrates                                    4762 non-null   Int64  \n",
      " 27  ACE-inhibitors                              4762 non-null   Int64  \n",
      " 28  Ipolipemizzanti                             4762 non-null   Int64  \n",
      " 29  Antidiabetici                               4762 non-null   Int64  \n",
      " 30  Total cholesterol                           4762 non-null   Int64  \n",
      " 31  HDL                                         4762 non-null   Int64  \n",
      " 32  LDL                                         4762 non-null   Float64\n",
      " 33  Triglycerides                               4762 non-null   Int64  \n",
      " 34  Glycemia                                    4755 non-null   Int64  \n",
      " 35  TSH                                         4762 non-null   Float64\n",
      " 36  fT3                                         4762 non-null   Float64\n",
      " 37  fT4                                         4762 non-null   Float64\n",
      " 38  Euthyroid                                   4762 non-null   Int64  \n",
      " 39  Subclinical primary hypothyroidism (SCH)    4762 non-null   Int64  \n",
      " 40  Subclinical primary hyperthyroidism\n",
      "(SCT)   4762 non-null   Int64  \n",
      " 41  Low T3                                      4762 non-null   Int64  \n",
      " 42  Ipotiroidismo                               4762 non-null   Int64  \n",
      " 43  Ipertiroidismo                              4762 non-null   Int64  \n",
      " 44  Normal                                      4762 non-null   Int64  \n",
      " 45  SindromeX                                   4762 non-null   Int64  \n",
      " 46  Aritmie                                     4762 non-null   Int64  \n",
      " 47  MIN                                         4762 non-null   Int64  \n",
      " 48  MIO                                         4762 non-null   Int64  \n",
      " 49  Miocardite                                  4762 non-null   Int64  \n",
      " 50  Pericardite                                 4762 non-null   Int64  \n",
      " 51  Endocardite                                 4762 non-null   Int64  \n",
      " 52  Valvulopatie                                4762 non-null   Int64  \n",
      " 53  MalattiaVasoAorta                           4762 non-null   Int64  \n",
      " 54  Ipertensione                                4762 non-null   Int64  \n",
      " 55  CardiopatiaCongenita                        4762 non-null   Int64  \n",
      " 56  EmboliaPolmonare                            4762 non-null   Int64  \n",
      " 57  EPA                                         4762 non-null   Int64  \n",
      " 58  HR                                          4739 non-null   Int64  \n",
      " 59  BMI                                         4762 non-null   Float64\n",
      " 60  Diastolic blood pressure                    4762 non-null   Int64  \n",
      " 61  Systolic blood pressure                     4762 non-null   Int64  \n",
      " 62  WmsiBas                                     4762 non-null   Float64\n",
      " 63  DimSettoIV                                  4762 non-null   Int64  \n",
      " 64  DimParPost                                  4762 non-null   Int64  \n",
      " 65  fe                                          4762 non-null   Int64  \n",
      " 66  vsx                                         4762 non-null   Int64  \n",
      " 67  CVD Death                                   4762 non-null   Int64  \n",
      "dtypes: Float64(7), Int64(61)\n",
      "memory usage: 2.8 MB\n"
     ]
    }
   ],
   "source": [
    "# drop features\n",
    "target = df[\"CVD Death\"]\n",
    "df_feat = df.iloc[:, :83]\n",
    "df_feat = pd.concat([df_feat.iloc[:, :30], df_feat.iloc[:, 40:]], axis=1)\n",
    "df_feat = df_feat.drop(columns=[\"Patologia TIROIDE \", \"Controllo\", \"AMI\", \"PMI\", \"Weight\", \"Height\"])\n",
    "df_feat[\"CVD Death\"] = target\n",
    "df_feat.info()"
   ]
  },
  {
   "cell_type": "code",
   "execution_count": 50,
   "metadata": {},
   "outputs": [
    {
     "name": "stdout",
     "output_type": "stream",
     "text": [
      "Total patient: \t 4762\n",
      "Survived: \t 4351 \t 0.9136917261654767\n",
      "Dead: \t\t 411 \t 0.08630827383452332\n"
     ]
    }
   ],
   "source": [
    "# df_feat = df_feat.dropna()\n",
    "print(\"Total patient: \\t\", len(df_feat))\n",
    "print(\"Survived: \\t\", len(df_feat)-df_feat[\"CVD Death\"].sum(), \"\\t\", (len(df_feat)-df_feat[\"CVD Death\"].sum())/len(df_feat))\n",
    "print(\"Dead: \\t\\t\", df_feat[\"CVD Death\"].sum(), \"\\t\", df_feat[\"CVD Death\"].sum()/len(df_feat))"
   ]
  },
  {
   "cell_type": "code",
   "execution_count": 51,
   "metadata": {},
   "outputs": [
    {
     "name": "stdout",
     "output_type": "stream",
     "text": [
      "Train: \t 3047\n",
      "Valid: \t 762\n",
      "Test: \t 953\n"
     ]
    }
   ],
   "source": [
    "# dataset split\n",
    "from sklearn.model_selection import train_test_split\n",
    "df_train, df_test = train_test_split(df_feat, test_size=0.2, stratify=df_feat.iloc[:,-1])\n",
    "df_train, df_valid = train_test_split(df_train, test_size=0.2, stratify=df_train.iloc[:,-1])\n",
    "df_train.to_csv(f\"data/data/train.csv\")\n",
    "df_valid.to_csv(f\"data/data/valid.csv\")\n",
    "df_test.to_csv(f\"data/data/test.csv\")\n",
    "print(\"Train: \\t\", len(df_train))\n",
    "print(\"Valid: \\t\", len(df_valid))\n",
    "print(\"Test: \\t\", len(df_test))"
   ]
  },
  {
   "cell_type": "markdown",
   "metadata": {},
   "source": [
    "## Two Datasets\n",
    "Created two different dataset with the same train, valid, test split for fair comparison to assess the influence of vessel feature.\n",
    "1. no_vessels: removed completely the vessels column\n",
    "2. with_vessels: with the vessels feature, need to apply the dropna to drop patients without vessel"
   ]
  },
  {
   "cell_type": "code",
   "execution_count": 67,
   "metadata": {},
   "outputs": [],
   "source": [
    "# df_t = pd.read_csv(\"./data/data/test.csv\", index_col=0, decimal='.')\n",
    "# df_t = df_t.convert_dtypes()\n",
    "# df_t = df_t.drop(columns=[\"Vessels\"])\n",
    "# df_t = df_t.dropna()\n",
    "# df_t.info()\n",
    "\n",
    "# df_t.to_csv(\"data/data/no_vessels/test.csv\")"
   ]
  },
  {
   "cell_type": "code",
   "execution_count": 66,
   "metadata": {},
   "outputs": [],
   "source": [
    "# import seaborn as sns\n",
    "# fig, ax = plt.subplots(figsize=(35,30))\n",
    "# sns.heatmap(df_feat.corr(), annot=True)\n",
    "# fig.savefig(\"feat.pdf\")"
   ]
  }
 ],
 "metadata": {
  "interpreter": {
   "hash": "31f2aee4e71d21fbe5cf8b01ff0e069b9275f58929596ceb00d14d90e3e16cd6"
  },
  "kernelspec": {
   "display_name": "Python 3.8.10 64-bit",
   "name": "python3"
  },
  "language_info": {
   "codemirror_mode": {
    "name": "ipython",
    "version": 3
   },
   "file_extension": ".py",
   "mimetype": "text/x-python",
   "name": "python",
   "nbconvert_exporter": "python",
   "pygments_lexer": "ipython3",
   "version": "3.8.10"
  },
  "orig_nbformat": 4
 },
 "nbformat": 4,
 "nbformat_minor": 2
}
