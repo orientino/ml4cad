{
 "cells": [
  {
   "cell_type": "markdown",
   "metadata": {},
   "source": [
    "## Process Data"
   ]
  },
  {
   "cell_type": "code",
   "execution_count": 2,
   "metadata": {},
   "outputs": [],
   "source": [
    "import pandas as pd\n",
    "import numpy as np\n",
    "import matplotlib.pyplot as plt\n",
    "\n",
    "plt.style.use('ggplot')\n",
    "%matplotlib inline"
   ]
  },
  {
   "cell_type": "code",
   "execution_count": 3,
   "metadata": {},
   "outputs": [],
   "source": [
    "# load data\n",
    "df_cvd = pd.read_csv(\"./data/data/data_cvd.csv\", index_col=0, decimal='.')\n",
    "df_date = pd.read_csv(\"date.csv\", index_col=0)\n",
    "df = pd.merge(df_cvd, df_date, left_index=True, right_index=True)\n",
    "df.convert_dtypes()\n",
    "df[\"Follow Up Data\"] = pd.to_datetime(df[\"Follow Up Data\"], format=\"%m/%d/%Y\")\n",
    "df[\"Data prelievo (1)\"] = pd.to_datetime(df[\"Data prelievo (1)\"], format=\"%m/%d/%Y\")\n",
    "# df.info()"
   ]
  },
  {
   "cell_type": "code",
   "execution_count": 4,
   "metadata": {},
   "outputs": [],
   "source": [
    "# complete vessels feature\n",
    "for i in df.index:\n",
    "    if (pd.isna(df[\"Vessels\"][i]) and df[\"CAD\"][i]==0):\n",
    "        df.loc[i, \"Vessels\"] = 0\n",
    "    elif (pd.isna(df[\"Vessels\"][i]) and df[\"CAD\"][i]==1):\n",
    "        df.loc[i, \"Vessels\"] = -1\n",
    "# df.info()"
   ]
  },
  {
   "cell_type": "code",
   "execution_count": 5,
   "metadata": {},
   "outputs": [
    {
     "data": {
      "image/png": "[encoded data removed]",
      "text/plain": [
       "<Figure size 432x288 with 1 Axes>"
      ]
     },
     "metadata": {},
     "output_type": "display_data"
    }
   ],
   "source": [
    "# compute difference between follow up and hospital admission\n",
    "df_diff = df[\"Follow Up Data\"] - df[\"Data prelievo (1)\"]\n",
    "for i in df_diff.index:\n",
    "    df_diff[i] = df_diff[i].days // 365\n",
    "df_diff.value_counts().sort_index().plot(kind='bar')\n",
    "plt.title(\"Distribution of the difference between Follow up - Recovery\")\n",
    "plt.xlabel(\"Years\")\n",
    "plt.ylabel(\"Number of patients\")\n",
    "\n",
    "# create the target feature\n",
    "years = 7\n",
    "survive = (df_diff < years) & df[\"CVD Death\"]\n",
    "survive = (survive + 1) % 2"
   ]
  },
  {
   "cell_type": "code",
   "execution_count": 6,
   "metadata": {},
   "outputs": [
    {
     "name": "stdout",
     "output_type": "stream",
     "text": [
      "Total patient: \t 4732\n",
      "Survived: \t 4378 \t 0.9251901944209636\n",
      "Dead: \t\t 354 \t 0.07480980557903635\n",
      "<class 'pandas.core.frame.DataFrame'>\n",
      "Int64Index: 4732 entries, 8986 to 1193\n",
      "Data columns (total 66 columns):\n",
      " #   Column                                      Non-Null Count  Dtype  \n",
      "---  ------                                      --------------  -----  \n",
      " 0   Age (1)                                     4732 non-null   int64  \n",
      " 1   Gender (Male = 1)                           4732 non-null   int64  \n",
      " 2   Angina                                      4732 non-null   int64  \n",
      " 3   Previous CABG                               4732 non-null   int64  \n",
      " 4   Previous PCI                                4732 non-null   int64  \n",
      " 5   Vessels                                     4732 non-null   float64\n",
      " 6   CAD                                         4732 non-null   int64  \n",
      " 7   Smoke\n",
      "History of smoke                      4732 non-null   int64  \n",
      " 8   Diabetes\n",
      "History of diabetes                4732 non-null   int64  \n",
      " 9   Hypertension\n",
      "History of hypertension        4732 non-null   int64  \n",
      " 10  Dyslipidemia\n",
      "Hystory of dyslipidemia        4732 non-null   int64  \n",
      " 11  Family history of CAD                       4732 non-null   int64  \n",
      " 12  Obesity\n",
      "History of obesity                  4732 non-null   int64  \n",
      " 13  Documented resting \n",
      "or exertional ischemia  4732 non-null   int64  \n",
      " 14  Post-ischemic Dilated\n",
      "Cardiomyopathy        4732 non-null   int64  \n",
      " 15  Primary Dilated\n",
      "Cardiomyopathy              4732 non-null   int64  \n",
      " 16  Atrial Fibrillation                         4732 non-null   int64  \n",
      " 17  Paroxysmal atrial fibrillation              4732 non-null   int64  \n",
      " 18  B-Blockers                                  4732 non-null   int64  \n",
      " 19  Amiodarone                                  4732 non-null   int64  \n",
      " 20  Calcium channel blockers                    4732 non-null   int64  \n",
      " 21  Diuretics                                   4732 non-null   int64  \n",
      " 22  Antiplatelet                                4732 non-null   int64  \n",
      " 23  Nitrates                                    4732 non-null   int64  \n",
      " 24  ACE-inhibitors                              4732 non-null   int64  \n",
      " 25  Ipolipemizzanti                             4732 non-null   int64  \n",
      " 26  Antidiabetici                               4732 non-null   int64  \n",
      " 27  Total cholesterol                           4732 non-null   int64  \n",
      " 28  HDL                                         4732 non-null   int64  \n",
      " 29  LDL                                         4732 non-null   float64\n",
      " 30  Triglycerides                               4732 non-null   int64  \n",
      " 31  Glycemia                                    4732 non-null   float64\n",
      " 32  TSH                                         4732 non-null   float64\n",
      " 33  fT3                                         4732 non-null   float64\n",
      " 34  fT4                                         4732 non-null   float64\n",
      " 35  Euthyroid                                   4732 non-null   int64  \n",
      " 36  Subclinical primary hypothyroidism (SCH)    4732 non-null   int64  \n",
      " 37  Subclinical primary hyperthyroidism\n",
      "(SCT)   4732 non-null   int64  \n",
      " 38  Low T3                                      4732 non-null   int64  \n",
      " 39  Ipotiroidismo                               4732 non-null   int64  \n",
      " 40  Ipertiroidismo                              4732 non-null   int64  \n",
      " 41  Normal                                      4732 non-null   int64  \n",
      " 42  SindromeX                                   4732 non-null   int64  \n",
      " 43  AMI                                         4732 non-null   int64  \n",
      " 44  PMI                                         4732 non-null   int64  \n",
      " 45  Aritmie                                     4732 non-null   int64  \n",
      " 46  MIO/MIN                                     4732 non-null   int64  \n",
      " 47  Miocardite                                  4732 non-null   int64  \n",
      " 48  Pericardite                                 4732 non-null   int64  \n",
      " 49  Endocardite                                 4732 non-null   int64  \n",
      " 50  Valvulopatie                                4732 non-null   int64  \n",
      " 51  MalattiaVasoAorta                           4732 non-null   int64  \n",
      " 52  Ipertensione                                4732 non-null   int64  \n",
      " 53  CardiopatiaCongenita                        4732 non-null   int64  \n",
      " 54  EmboliaPolmonare                            4732 non-null   int64  \n",
      " 55  EPA                                         4732 non-null   int64  \n",
      " 56  HR                                          4732 non-null   float64\n",
      " 57  BMI                                         4732 non-null   float64\n",
      " 58  Diastolic blood pressure                    4732 non-null   int64  \n",
      " 59  Systolic blood pressure                     4732 non-null   int64  \n",
      " 60  WmsiBas                                     4732 non-null   float64\n",
      " 61  DimSettoIV                                  4732 non-null   int64  \n",
      " 62  DimParPost                                  4732 non-null   int64  \n",
      " 63  fe                                          4732 non-null   int64  \n",
      " 64  vsx                                         4732 non-null   int64  \n",
      " 65  Survive7Y                                   4732 non-null   int64  \n",
      "dtypes: float64(9), int64(57)\n",
      "memory usage: 2.4 MB\n"
     ]
    }
   ],
   "source": [
    "# clean features\n",
    "# remove dates, follow up features\n",
    "target = df[\"CVD Death\"]\n",
    "df_feat = df.iloc[:, :83]\n",
    "df_feat = pd.concat([df_feat.iloc[:, :30], df_feat.iloc[:, 40:]], axis=1)\n",
    "df_feat = df_feat.drop(columns=[\"Patologia TIROIDE \", \"Controllo\", \"Weight\", \"Height\", \"Angiography\"])\n",
    "# df_feat.info()\n",
    "\n",
    "# feature engineering\n",
    "df_feat[\"AMI\"] = df_feat[\"Acute \\nMyocardial Infarction\"] | df_feat[\"AMI\"]\n",
    "df_feat[\"PMI\"] = df_feat[\"Previous \\nMyocardial Infarction\"] | df_feat[\"PMI\"]\n",
    "df_feat[\"MIO\"] = df_feat[\"MIN\"] | df_feat[\"MIO\"]\n",
    "df_feat.rename(columns={\"MIO\": \"MIO/MIN\"}, inplace=True)\n",
    "df_feat = df_feat.drop(columns=[\"MIN\", \"Previous \\nMyocardial Infarction\", \"Acute \\nMyocardial Infarction\"])\n",
    "# df_feat.info()\n",
    "\n",
    "# TODO drop the features with low percentage?\n",
    "# df_feat = df_feat.drop(columns=[\"Low T3\", \"Normal\", \"SindromeX\", \"Miocardite\", \"Pericardite\", \"Endocardite\", \"MalattiaVasoAorta\", \"CardiopatiaCongenita\", \"EmboliaPolmonare\", \"EPA\"])\n",
    "\n",
    "# add target feature\n",
    "df_feat[f\"Survive{years}Y\"] = survive\n",
    "\n",
    "# drop all the remaining na patients\n",
    "df_feat = df_feat.dropna()\n",
    "print(\"Total patient: \\t\", len(df_feat))\n",
    "print(\"Survived: \\t\", df_feat[f\"Survive{years}Y\"].sum(), \"\\t\", df_feat[f\"Survive{years}Y\"].sum()/len(df_feat))\n",
    "print(\"Dead: \\t\\t\", len(df_feat)-df_feat[f\"Survive{years}Y\"].sum(), \"\\t\", (len(df_feat)-df_feat[f\"Survive{years}Y\"].sum())/len(df_feat))\n",
    "df_feat.info()\n",
    "\n",
    "# df_feat.to_csv(\"data/data/data_cvd_clean.csv\")"
   ]
  },
  {
   "cell_type": "code",
   "execution_count": 23,
   "metadata": {},
   "outputs": [
    {
     "name": "stdout",
     "output_type": "stream",
     "text": [
      "Train: \t 3028\n",
      "Valid: \t 757\n",
      "Test: \t 947\n"
     ]
    }
   ],
   "source": [
    "# dataset train, valid, test split\n",
    "import os\n",
    "def split_and_save(df, path, overwrite=False, verbose=True):\n",
    "    from sklearn.model_selection import train_test_split\n",
    "    df_train, df_test = train_test_split(df, test_size=0.2, stratify=df.iloc[:,-1])\n",
    "    df_train, df_valid = train_test_split(df_train, test_size=0.2, stratify=df_train.iloc[:,-1])\n",
    "\n",
    "    if len(os.listdir(path)) == 0 or overwrite:\n",
    "        df_train.to_csv(f\"{path}train.csv\")\n",
    "        df_valid.to_csv(f\"{path}valid.csv\")\n",
    "        df_test.to_csv(f\"{path}test.csv\")\n",
    "\n",
    "    if verbose: \n",
    "        print(\"Train: \\t\", len(df_train))\n",
    "        print(\"Valid: \\t\", len(df_valid))\n",
    "        print(\"Test: \\t\", len(df_test))\n",
    "\n",
    "# # save the whole dataset\n",
    "# split_and_save(df_feat, \"data/data/7y/\", overwrite=False)"
   ]
  },
  {
   "cell_type": "markdown",
   "metadata": {},
   "source": [
    "## Number of patients for each subgroup\n",
    "- Angina:         2512\n",
    "- Aritmie:        1508\n",
    "- PMI:            1278\n",
    "- Previous PCI:   650\n",
    "- Post-ischemic:  478\n",
    "- AMI:            378 \n",
    "- Previous CABG:  356"
   ]
  },
  {
   "cell_type": "code",
   "execution_count": 22,
   "metadata": {},
   "outputs": [
    {
     "name": "stdout",
     "output_type": "stream",
     "text": [
      "Train: \t 1607\n",
      "Valid: \t 402\n",
      "Test: \t 503\n",
      "Train: \t 964\n",
      "Valid: \t 242\n",
      "Test: \t 302\n",
      "Train: \t 817\n",
      "Valid: \t 205\n",
      "Test: \t 256\n"
     ]
    }
   ],
   "source": [
    "# divide into subgroups and save the datasets\n",
    "df_angina = df_feat[df_feat[\"Angina\"] == 1]\n",
    "df_aritmie = df_feat[df_feat[\"Aritmie\"] == 1]\n",
    "df_pmi = df_feat[df_feat[\"PMI\"] == 1]\n",
    "\n",
    "split_and_save(df_angina, \"data/data/7y/angina/\")\n",
    "split_and_save(df_aritmie, \"data/data/7y/aritmie/\")\n",
    "split_and_save(df_pmi, \"data/data/7y/pmi/\")"
   ]
  },
  {
   "cell_type": "code",
   "execution_count": 165,
   "metadata": {},
   "outputs": [],
   "source": [
    "df_test = pd.read_csv(\"./data/data/7y/train.csv\", index_col=0, decimal='.')\n",
    "\n",
    "# remove all the non frequent (<200) cardio symptoms categories \n",
    "df_test = df_test.drop(columns=[\"Normal\", \"SindromeX\", \"Miocardite\", \"Pericardite\", \"Endocardite\", \"MalattiaVasoAorta\", \"CardiopatiaCongenita\", \"EmboliaPolmonare\", \"EPA\"])\n",
    "\n",
    "# remove all the thyroid dychotomy variables obtained from formulas\n",
    "df_test = df_test.drop(columns=[\"Euthyroid\", \"Subclinical primary hypothyroidism (SCH)\", \"Subclinical primary hyperthyroidism (SCT)\", \"Low T3\", \"Ipotiroidismo\", \"Ipertiroidismo\"])\n",
    "\n",
    "# remove all the patients with vessels = -1, which represent when CAD = 1 and vessels was originally empty\n",
    "df_test = df_test[df_test[\"Vessels\"] != -1]\n",
    "\n",
    "df_test.info()"
   ]
  },
  {
   "cell_type": "code",
   "execution_count": 25,
   "metadata": {},
   "outputs": [],
   "source": [
    "# import seaborn as sns\n",
    "# fig, ax = plt.subplots(figsize=(35,30))\n",
    "# sns.heatmap(df_feat.corr(), annot=True)\n",
    "# fig.savefig(\"feat.pdf\")"
   ]
  }
 ],
 "metadata": {
  "interpreter": {
   "hash": "31f2aee4e71d21fbe5cf8b01ff0e069b9275f58929596ceb00d14d90e3e16cd6"
  },
  "kernelspec": {
   "display_name": "Python 3.8.10 64-bit",
   "name": "python3"
  },
  "language_info": {
   "codemirror_mode": {
    "name": "ipython",
    "version": 3
   },
   "file_extension": ".py",
   "mimetype": "text/x-python",
   "name": "python",
   "nbconvert_exporter": "python",
   "pygments_lexer": "ipython3",
   "version": "3.8.10"
  },
  "orig_nbformat": 4
 },
 "nbformat": 4,
 "nbformat_minor": 2
}
