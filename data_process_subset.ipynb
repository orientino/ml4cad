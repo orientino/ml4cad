{
 "cells": [
  {
   "cell_type": "markdown",
   "metadata": {},
   "source": [
    "## Process Data"
   ]
  },
  {
   "cell_type": "code",
   "execution_count": 1,
   "metadata": {},
   "outputs": [],
   "source": [
    "import pandas as pd\n",
    "import numpy as np\n",
    "import matplotlib.pyplot as plt\n",
    "\n",
    "plt.style.use('ggplot')\n",
    "%matplotlib inline"
   ]
  },
  {
   "cell_type": "code",
   "execution_count": 2,
   "metadata": {},
   "outputs": [],
   "source": [
    "# load data\n",
    "df = pd.read_csv(\"./data/data/data_cvd_clean.csv\", index_col=0, decimal='.')\n",
    "df_sub = pd.read_csv(\"./data/data/data_subset.csv\", index_col=0, decimal='.')\n",
    "# df.info()"
   ]
  },
  {
   "cell_type": "code",
   "execution_count": 3,
   "metadata": {},
   "outputs": [
    {
     "data": {
      "text/plain": [
       "Text(0, 0.5, 'Categories')"
      ]
     },
     "execution_count": 3,
     "metadata": {},
     "output_type": "execute_result"
    },
    {
     "data": {
      "image/png": "[encoded data removed]",
      "text/plain": [
       "<Figure size 432x288 with 1 Axes>"
      ]
     },
     "metadata": {},
     "output_type": "display_data"
    }
   ],
   "source": [
    "# number of patients per category\n",
    "df_sub[\"Classificazione pazienti\"].value_counts().sort_index().plot(kind='bar')\n",
    "plt.title(\"#Patients per category\")\n",
    "plt.xlabel(\"Patients\")\n",
    "plt.ylabel(\"Categories\")"
   ]
  },
  {
   "cell_type": "code",
   "execution_count": 4,
   "metadata": {},
   "outputs": [],
   "source": [
    "# correct with the new data\n",
    "diff = list(set(df_sub.index) - set(df.index))\n",
    "df_sub_clean = df_sub.drop(diff)\n",
    "df = df.sort_index(ascending=True)\n",
    "# sum(df_sub_clean[\"Previous \\nMyocardial Infarction - PMI\"] == df[\"Previous \\nMyocardial Infarction\"])\n",
    "\n",
    "df[\"Previous \\nMyocardial Infarction\"] = df_sub_clean[\"Previous \\nMyocardial Infarction - PMI\"]\n",
    "df[\"Angiography\"] = df_sub_clean[\"Angiography\"]\n",
    "df[\"Documented resting \\nor exertional ischemia\"] = df_sub_clean[\"Documented resting \\nor exertional ischemia\"]\n",
    "df[\"Post-ischemic Dilated\\nCardiomyopathy\"] = df_sub_clean[\"Post-ischemic Dilated\\nCardiomyopathy\"]\n",
    "df[\"Primary Dilated\\nCardiomyopathy\"] = df_sub_clean[\"Primary Dilated\\nCardiomyopathy\"]"
   ]
  },
  {
   "cell_type": "code",
   "execution_count": 5,
   "metadata": {},
   "outputs": [
    {
     "name": "stdout",
     "output_type": "stream",
     "text": [
      "Total patient: \t 4734\n",
      "Survived: \t 4378 \t 0.9247993240388678\n",
      "Dead: \t\t 356 \t 0.07520067596113224\n"
     ]
    }
   ],
   "source": [
    "# feature engineering\n",
    "df_feat = df.copy()\n",
    "df_feat[\"MIO\"] = df_feat[\"MIN\"] | df_feat[\"MIO\"]\n",
    "df_feat.rename(columns={\"MIO\": \"MIO/MIN\"}, inplace=True)\n",
    "df_feat = df_feat.drop(columns=[\"MIN\", \"Angiography\"])\n",
    "# df_feat.info()\n",
    "\n",
    "# fix all the NA patients\n",
    "# 1. remove Suriveve7Y = 1 and NA\n",
    "# 2. fill other NA's HR = average(HR of Survive7Y = 0) = 76\n",
    "df_na = df_feat[df_feat.isna().any(axis=1)]\n",
    "df_feat = df_feat.drop(df_na[df_na[\"Survive7Y\"] == 1].index)\n",
    "df_feat.loc[df_na[df_na[\"Survive7Y\"] == 0].index, \"HR\"] = 76\n",
    "\n",
    "years = 7\n",
    "print(\"Total patient: \\t\", len(df_feat))\n",
    "print(\"Survived: \\t\", df_feat[f\"Survive{years}Y\"].sum(), \"\\t\", df_feat[f\"Survive{years}Y\"].sum()/len(df_feat))\n",
    "print(\"Dead: \\t\\t\", len(df_feat)-df_feat[f\"Survive{years}Y\"].sum(), \"\\t\", (len(df_feat)-df_feat[f\"Survive{years}Y\"].sum())/len(df_feat))\n",
    "# df_feat.info()\n",
    "\n",
    "# df_feat.to_csv(\"data/data/data_cvd_clean_subset.csv\")"
   ]
  },
  {
   "cell_type": "code",
   "execution_count": 6,
   "metadata": {},
   "outputs": [],
   "source": [
    "# dataset train, valid, test split\n",
    "def split_and_save(df, path, verbose=True):\n",
    "    from sklearn.model_selection import train_test_split\n",
    "    df.to_csv(f\"{path}df.csv\")\n",
    "    df_train, df_test = train_test_split(df, test_size=0.165, stratify=df.iloc[:,-1])\n",
    "    df_train, df_valid = train_test_split(df_train, test_size=0.2, stratify=df_train.iloc[:,-1])\n",
    "\n",
    "    df_train.to_csv(f\"{path}train.csv\")\n",
    "    df_valid.to_csv(f\"{path}valid.csv\")\n",
    "    df_test.to_csv(f\"{path}test.csv\")\n",
    "\n",
    "    if verbose: \n",
    "        print(\"Total: \\t\", len(df))\n",
    "        print(\"Train: \\t\", len(df_train))\n",
    "        print(\"Valid: \\t\", len(df_valid))\n",
    "        print(\"Test: \\t\", len(df_test))\n",
    "        print(f\"Saved the dataset in {path} \\n\")"
   ]
  },
  {
   "cell_type": "markdown",
   "metadata": {},
   "source": [
    "## Number of patients for each subgroup\n",
    "- 6 Coronary Artery Disease\n",
    "- 5 Cardiomiopatia Dilatative Primitiva\n",
    "- 4 Miocardite, Pericardite, Endocardite... \n",
    "- 3 Ipertensione, Aritmie"
   ]
  },
  {
   "cell_type": "code",
   "execution_count": 7,
   "metadata": {},
   "outputs": [],
   "source": [
    "diff = list(set(df_sub_clean.index) - set(df_feat.index))\n",
    "df_sub_clean_na = df_sub_clean.drop(diff)\n",
    "assert all(df_sub_clean_na.index == df_feat.index)"
   ]
  },
  {
   "cell_type": "code",
   "execution_count": 8,
   "metadata": {},
   "outputs": [
    {
     "name": "stderr",
     "output_type": "stream",
     "text": [
      "<ipython-input-8-5562322e4a46>:2: UserWarning: Boolean Series key will be reindexed to match DataFrame index.\n",
      "  df_6 = df_feat[df_sub_clean[\"Classificazione pazienti\"] == 6]\n",
      "<ipython-input-8-5562322e4a46>:3: UserWarning: Boolean Series key will be reindexed to match DataFrame index.\n",
      "  df_5 = df_feat[df_sub_clean[\"Classificazione pazienti\"] == 5]\n",
      "<ipython-input-8-5562322e4a46>:4: UserWarning: Boolean Series key will be reindexed to match DataFrame index.\n",
      "  df_4 = df_feat[df_sub_clean[\"Classificazione pazienti\"] == 4]\n",
      "<ipython-input-8-5562322e4a46>:5: UserWarning: Boolean Series key will be reindexed to match DataFrame index.\n",
      "  df_3 = df_feat[df_sub_clean[\"Classificazione pazienti\"] == 3]\n"
     ]
    },
    {
     "name": "stdout",
     "output_type": "stream",
     "text": [
      "Total: \t 4734\n",
      "Train: \t 3161\n",
      "Valid: \t 791\n",
      "Test: \t 782\n",
      "Saved the dataset in data/data/7y_subset/complete/ \n",
      "\n"
     ]
    }
   ],
   "source": [
    "# divide into subgroups and save the datasets\n",
    "df_6 = df_feat[df_sub_clean[\"Classificazione pazienti\"] == 6]\n",
    "df_5 = df_feat[df_sub_clean[\"Classificazione pazienti\"] == 5]\n",
    "df_4 = df_feat[df_sub_clean[\"Classificazione pazienti\"] == 4]\n",
    "df_3 = df_feat[df_sub_clean[\"Classificazione pazienti\"] == 3]\n",
    "\n",
    "# split_and_save(df_6, \"data/data/7y_subset/6CAD/\")\n",
    "# split_and_save(df_5, \"data/data/7y_subset/5CDP/\")\n",
    "# split_and_save(df_4, \"data/data/7y_subset/4Cardite_Altro/\")\n",
    "# split_and_save(df_3, \"data/data/7y_subset/3Ipertensione_Aritmie/\")\n",
    "\n",
    "# # save the whole dataset\n",
    "split_and_save(df_feat, \"data/data/7y_subset/complete/\")"
   ]
  },
  {
   "cell_type": "code",
   "execution_count": 11,
   "metadata": {},
   "outputs": [
    {
     "name": "stdout",
     "output_type": "stream",
     "text": [
      "Counter({1: 2406, 0: 213})\n",
      "Counter({1: 318, 0: 41})\n",
      "Counter({1: 460, 0: 66})\n",
      "Counter({1: 1009, 0: 35})\n"
     ]
    }
   ],
   "source": [
    "from collections import Counter\n",
    "print(Counter(df_6[\"Survive7Y\"]))\n",
    "print(Counter(df_5[\"Survive7Y\"]))\n",
    "print(Counter(df_4[\"Survive7Y\"]))\n",
    "print(Counter(df_3[\"Survive7Y\"]))"
   ]
  },
  {
   "cell_type": "code",
   "execution_count": 25,
   "metadata": {},
   "outputs": [],
   "source": [
    "import seaborn as sns\n",
    "fig, ax = plt.subplots(figsize=(35,30))\n",
    "sns.heatmap(df_feat.corr(), annot=True)\n",
    "# fig.savefig(\"feat.pdf\")"
   ]
  }
 ],
 "metadata": {
  "interpreter": {
   "hash": "31f2aee4e71d21fbe5cf8b01ff0e069b9275f58929596ceb00d14d90e3e16cd6"
  },
  "kernelspec": {
   "display_name": "Python 3.8.10 64-bit",
   "name": "python3"
  },
  "language_info": {
   "codemirror_mode": {
    "name": "ipython",
    "version": 3
   },
   "file_extension": ".py",
   "mimetype": "text/x-python",
   "name": "python",
   "nbconvert_exporter": "python",
   "pygments_lexer": "ipython3",
   "version": "3.8.10"
  },
  "orig_nbformat": 4
 },
 "nbformat": 4,
 "nbformat_minor": 2
}
