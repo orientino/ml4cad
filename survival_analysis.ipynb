{
 "cells": [
  {
   "cell_type": "markdown",
   "metadata": {},
   "source": [
    "This notebook is used to perform survival analysis"
   ]
  },
  {
   "cell_type": "code",
   "execution_count": null,
   "metadata": {},
   "outputs": [],
   "source": [
    "import pandas as pd\n",
    "import numpy as np\n",
    "import matplotlib as mpl\n",
    "import matplotlib.pyplot as plt\n",
    "from lifelines import KaplanMeierFitter, plotting, CoxPHFitter\n",
    "\n",
    "plt.style.use('bmh')\n",
    "mpl.rcParams.update({\n",
    "    \"grid.linestyle\" : \"dashed\",\n",
    "    \"axes.facecolor\" : \"white\",\n",
    "    \"axes.spines.top\" : False,\n",
    "    \"axes.spines.right\" : False,\n",
    "    \"legend.frameon\" : True,\n",
    "    \"figure.figsize\" : (8, 5),\n",
    "    \"figure.dpi\" : 500,\n",
    "})\n",
    "\n",
    "%matplotlib inline"
   ]
  },
  {
   "cell_type": "code",
   "execution_count": null,
   "metadata": {},
   "outputs": [],
   "source": [
    "# Load the dataset and the extra data\n",
    "df = pd.read_csv(\"./data/cad_old/data_cvd.csv\", index_col=0, decimal='.')\n",
    "df[\"Follow Up Data\"] = pd.to_datetime(df[\"Follow Up Data\"], format=\"%Y/%m/%d\")\n",
    "df[\"Data prelievo\"] = pd.to_datetime(df[\"Data prelievo\"], format=\"%Y/%m/%d\")\n",
    "\n",
    "df_7y = pd.read_csv(\"./data/cad/data_feat.csv\", index_col=0, decimal='.')\n",
    "df = df.merge(df_7y.loc[:, [\"Creatinina\", \"Survive7Y\"]], how=\"left\", left_index=True, right_index=True)\n",
    "\n",
    "df[\"Death7Y\"] = df[\"Survive7Y\"].map(lambda x: (x+1)%2)"
   ]
  },
  {
   "cell_type": "code",
   "execution_count": null,
   "metadata": {},
   "outputs": [],
   "source": [
    "# Birth event: \"Data prelievo\"\n",
    "# Death event: \"Death7Y\"\n",
    "# Right-censoring occur if the patient is still alive at \"Follow Up Data\"\n",
    "\n",
    "# Duration and observation features\n",
    "df_surv = pd.DataFrame()\n",
    "df_surv[\"Death7Y\"] = df[\"Death7Y\"]\n",
    "df_surv[\"duration\"] = (df[\"Follow Up Data\"] - df[\"Data prelievo\"]).map(lambda x: (x.days//365) + 1)\n",
    "df_surv[\"observed\"] = df[\"CVD Death\"]\n",
    "df_surv[\"ID\"] = np.random.randint(0, 1e6, size=len(df_surv))\n",
    "\n",
    "# Plot duration\n",
    "df_surv[\"duration\"].value_counts(normalize=True).sort_index().plot(kind='bar')\n",
    "df_feat = pd.read_csv(\"./data/cad/data_feat.csv\", index_col=0, decimal='.')\n",
    "df_surv = df_feat.merge(df_surv, how=\"left\", left_index=True, right_index=True)\n",
    "# df_surv.to_csv(\"data/cad/data_surv.csv\")"
   ]
  },
  {
   "cell_type": "markdown",
   "metadata": {},
   "source": [
    "### Survival Analysis on all the data\n",
    "The plot indicates the % of CVD patients that survived after n years. For example, the probability for surviving more than 7 years is ~92%."
   ]
  },
  {
   "cell_type": "code",
   "execution_count": null,
   "metadata": {},
   "outputs": [],
   "source": [
    "fig = plt.figure(figsize=(20, 5), dpi=500) \n",
    "fig_dims = (1, 2)\n",
    "fig.subplots_adjust(hspace=0.2, wspace=0.2)\n",
    "\n",
    "plt.subplot2grid(fig_dims, (0, 0))\n",
    "kmf1 = KaplanMeierFitter()\n",
    "kmf1.fit(df_surv[\"duration\"], event_observed=df_surv[\"observed\"], label=\"CVD\")\n",
    "kmf1.plot_survival_function()\n",
    "plt.title('Survival Function of CVD Patients')\n",
    "plt.xlabel(\"Years\")\n",
    "plt.ylabel(\"Survive\")\n",
    "plt.ylim(0, 1)\n",
    "plotting.add_at_risk_counts(kmf1)\n",
    "\n",
    "plt.subplot2grid(fig_dims, (0, 1))\n",
    "kmf2 = KaplanMeierFitter()\n",
    "kmf2.fit(df_surv[\"duration\"], event_observed=df_surv[\"Death7Y\"], label=\"CVD\")\n",
    "kmf2.plot_survival_function()\n",
    "plt.title('Survival Function of CVD Patients (7 Years)')\n",
    "plt.xlabel(\"Years\")\n",
    "plt.ylabel(\"Survive7Y\")\n",
    "plt.ylim(0, 1)\n",
    "plotting.add_at_risk_counts(kmf2)\n",
    "\n",
    "# plt.savefig(\"\")\n",
    "# kmf.median_survival_time_\n",
    "# kmf.confidence_interval_"
   ]
  },
  {
   "cell_type": "markdown",
   "metadata": {},
   "source": [
    "### Survival Analysis Univariate"
   ]
  },
  {
   "cell_type": "code",
   "execution_count": null,
   "metadata": {},
   "outputs": [],
   "source": [
    "df_test = pd.read_csv(\"./data/cad/test.csv\", index_col=0, decimal='.').sort_index()\n",
    "df_test = df_test.merge(df_surv.loc[:, [\"duration\", \"observed\"]], how=\"left\", left_index=True, right_index=True)\n",
    "df_test = df_test.rename(columns={\"Hyperlipemia\\nHistoty of hyperlipemia\": \"Dyslipidemia\"})"
   ]
  },
  {
   "cell_type": "code",
   "execution_count": null,
   "metadata": {},
   "outputs": [],
   "source": [
    "fig = plt.figure(figsize=(12, 3.5), dpi=400) \n",
    "fig_dims = (1, 2)\n",
    "fig.subplots_adjust(hspace=0.10, wspace=0.20)\n",
    "\n",
    "# Dyslipidemia\n",
    "plt.subplot2grid(fig_dims, (0, 0))\n",
    "mean = df_test[\"FE\"].mean()\n",
    "df_under_mean = df_test[df_test[\"FE\"] <= mean]\n",
    "df_above_mean = df_test[df_test[\"FE\"] > mean]\n",
    "\n",
    "kmf1 = KaplanMeierFitter()\n",
    "kmf1.fit(df_under_mean[\"duration\"], event_observed=df_under_mean[\"observed\"], label=f\"FE <= {int(mean)}\")\n",
    "kmf1.plot_survival_function()\n",
    "kmf2 = KaplanMeierFitter()\n",
    "kmf2.fit(df_above_mean[\"duration\"], event_observed=df_above_mean[\"observed\"], label=f\"FE > {int(mean)}\")\n",
    "kmf2.plot_survival_function(linestyle=\"--\")\n",
    "\n",
    "plt.title('Survival Function of CAD Patients (FE)')\n",
    "plt.xlabel(\"Years\")\n",
    "plt.ylabel(\"Survivals\")\n",
    "plt.ylim(0, 1)\n",
    "plt.legend(loc=\"lower left\")\n",
    "plotting.add_at_risk_counts(kmf1, kmf2)\n",
    "\n",
    "# FE\n",
    "plt.subplot2grid(fig_dims, (0, 1))\n",
    "mean = df_test[\"Age\"].mean()\n",
    "df_under_mean = df_test[df_test[\"Age\"] <= mean]\n",
    "df_above_mean = df_test[df_test[\"Age\"] > mean]\n",
    "\n",
    "kmf1 = KaplanMeierFitter()\n",
    "kmf1.fit(df_under_mean[\"duration\"], event_observed=df_under_mean[\"observed\"], label=f\"Age <= {int(mean)}\")\n",
    "kmf1.plot_survival_function()\n",
    "kmf2 = KaplanMeierFitter()\n",
    "kmf2.fit(df_above_mean[\"duration\"], event_observed=df_above_mean[\"observed\"], label=f\"Age > {int(mean)}\")\n",
    "kmf2.plot_survival_function(linestyle=\"--\")\n",
    "\n",
    "plt.title('Survival Function of CAD Patients (Age)')\n",
    "plt.xlabel(\"Years\")\n",
    "# plt.ylabel(\"Survivals\")\n",
    "plt.tick_params(labelleft=False)\n",
    "plt.ylim(0, 1)\n",
    "plotting.add_at_risk_counts(kmf1, kmf2)"
   ]
  },
  {
   "cell_type": "markdown",
   "metadata": {},
   "source": [
    "### Survival Analysis Model "
   ]
  },
  {
   "cell_type": "code",
   "execution_count": null,
   "metadata": {},
   "outputs": [],
   "source": [
    "def plot_kmf(df_pred, threshold, variable):\n",
    "    df_pred_under = df_pred[df_pred[\"ModelOutput\"] <= threshold]\n",
    "    df_pred_above = df_pred[df_pred[\"ModelOutput\"] > threshold]\n",
    "\n",
    "    kmf1 = KaplanMeierFitter()\n",
    "    kmf1.fit(df_pred_under[\"duration\"], event_observed=df_pred_under[\"observed\"], label=f\"<= {threshold}\")\n",
    "    kmf1.plot_survival_function()\n",
    "\n",
    "    kmf2 = KaplanMeierFitter()\n",
    "    kmf2.fit(df_pred_above[\"duration\"], event_observed=df_pred_above[\"observed\"], label=f\"> {threshold}\")\n",
    "    kmf2.plot_survival_function(linestyle=\"--\")\n",
    "\n",
    "    plt.title(f'Survival Function of CAD Patients ({variable})')\n",
    "    plt.xlabel(\"Years\")\n",
    "    plt.ylabel(\"Survivals\")\n",
    "\n",
    "    if threshold == 0.7:\n",
    "        plt.ylabel(\"\")\n",
    "        plt.tick_params(labelleft=False)\n",
    "\n",
    "    plt.ylim(0, 1)\n",
    "    plotting.add_at_risk_counts(kmf1, kmf2)"
   ]
  },
  {
   "cell_type": "code",
   "execution_count": null,
   "metadata": {},
   "outputs": [],
   "source": [
    "df_out = pd.read_csv(\"./data/cad/extra_test_output.csv\", index_col=0, decimal='.')\n",
    "df_out7 = pd.read_csv(\"./data/cad/extra_test_output_top.csv\", index_col=0, decimal='.')\n",
    "\n",
    "# Model 18 features\n",
    "df_test_pred = df_surv.drop(list(set(df_surv.index) - set(df_out.index)))\n",
    "df_test_pred = df_test_pred.merge(df_out, how=\"left\", left_index=True, right_index=True)\n",
    "\n",
    "# Model 7 features\n",
    "df_test7_pred = df_surv.drop(list(set(df_surv.index) - set(df_out7.index)))\n",
    "df_test7_pred = df_test7_pred.merge(df_out7, how=\"left\", left_index=True, right_index=True)"
   ]
  },
  {
   "cell_type": "code",
   "execution_count": null,
   "metadata": {},
   "outputs": [],
   "source": [
    "# Plots\n",
    "fig = plt.figure(figsize=(12, 10), dpi=400) \n",
    "fig_dims = (2, 2)\n",
    "fig.subplots_adjust(hspace=1, wspace=0.2)\n",
    "\n",
    "plt.subplot2grid(fig_dims, (0, 0))\n",
    "plot_kmf(df_test_pred, threshold=0.6, variable=\"Model18\")\n",
    "\n",
    "plt.subplot2grid(fig_dims, (0, 1))\n",
    "plot_kmf(df_test_pred, threshold=0.7, variable=\"Model18\")\n",
    "\n",
    "plt.subplot2grid(fig_dims, (1, 0))\n",
    "plot_kmf(df_test7_pred, threshold=0.6, variable=\"Model7\")\n",
    "\n",
    "plt.subplot2grid(fig_dims, (1, 1))\n",
    "plot_kmf(df_test7_pred, threshold=0.7, variable=\"Model7\")"
   ]
  },
  {
   "cell_type": "markdown",
   "metadata": {},
   "source": [
    "### COX Regression and p-value "
   ]
  },
  {
   "cell_type": "code",
   "execution_count": null,
   "metadata": {},
   "outputs": [],
   "source": [
    "df_out = pd.read_csv(\"./data/cad/extra_test_output.csv\", index_col=0, decimal='.')\n",
    "df_out7 = pd.read_csv(\"./data/cad/extra_test_output_top.csv\", index_col=0, decimal='.')\n",
    "\n",
    "# Model 18 all features\n",
    "df_test_pred = df_surv.drop(list(set(df_surv.index) - set(df_out.index)))\n",
    "df_test_pred = df_test_pred.merge(df_out, how=\"left\", left_index=True, right_index=True)\n",
    "\n",
    "# Model 7 top features\n",
    "df_test7_pred = df_surv.drop(list(set(df_surv.index) - set(df_out7.index)))\n",
    "df_test7_pred = df_test7_pred.merge(df_out7, how=\"left\", left_index=True, right_index=True)"
   ]
  },
  {
   "cell_type": "code",
   "execution_count": null,
   "metadata": {},
   "outputs": [],
   "source": [
    "top = [\n",
    "    \"Hyperlipemia\\nHistoty of hyperlipemia\",\n",
    "    \"FE\",\n",
    "    \"Previous CABG\",\n",
    "    \"Diabetes\\nHistory of diabetes\",\n",
    "    \"Previous Myocardial Infarction\",\n",
    "    \"Smoke\\nHistory of smoke\",\n",
    "    \"Documented resting \\nor exertional ischemia\",\n",
    "]"
   ]
  },
  {
   "cell_type": "markdown",
   "metadata": {},
   "source": [
    "Univariate"
   ]
  },
  {
   "cell_type": "code",
   "execution_count": null,
   "metadata": {},
   "outputs": [],
   "source": [
    "cph = CoxPHFitter()\n",
    "cph.fit(df_test_pred.loc[:, [\"Angina\", \"duration\", \"observed\"]], duration_col='duration', event_col='observed')\n",
    "# cph.fit(df_test7_pred.loc[:, [\"ModelOutput\", \"duration\", \"observed\"]], duration_col='duration', event_col='observed')\n",
    "cph.print_summary()"
   ]
  },
  {
   "cell_type": "markdown",
   "metadata": {},
   "source": [
    "Multivariate Top 7 variables"
   ]
  },
  {
   "cell_type": "code",
   "execution_count": null,
   "metadata": {},
   "outputs": [],
   "source": [
    "cph = CoxPHFitter()\n",
    "cph.fit(df_test_pred.loc[:, top + [\"duration\", \"observed\"]], duration_col='duration', event_col='observed')\n",
    "cph.print_summary()"
   ]
  },
  {
   "cell_type": "markdown",
   "metadata": {},
   "source": [
    "Multivariate Top 7 variables + Model 7"
   ]
  },
  {
   "cell_type": "code",
   "execution_count": null,
   "metadata": {},
   "outputs": [],
   "source": [
    "cph = CoxPHFitter()\n",
    "cph.fit(df_test7_pred.loc[:, top + [\"ModelOutput\", \"duration\", \"observed\"]], duration_col='duration', event_col='observed')\n",
    "cph.print_summary()"
   ]
  },
  {
   "cell_type": "markdown",
   "metadata": {},
   "source": [
    "Multivariate Top 7 variables + Model 18"
   ]
  },
  {
   "cell_type": "code",
   "execution_count": null,
   "metadata": {},
   "outputs": [],
   "source": [
    "cph = CoxPHFitter()\n",
    "cph.fit(df_test_pred.loc[:, top + [\"ModelOutput\", \"duration\", \"observed\"]], duration_col='duration', event_col='observed')\n",
    "cph.print_summary()"
   ]
  },
  {
   "cell_type": "markdown",
   "metadata": {},
   "source": [
    "Multivariate all variables"
   ]
  },
  {
   "cell_type": "code",
   "execution_count": null,
   "metadata": {},
   "outputs": [],
   "source": [
    "df_feat = df_test_pred.drop(columns=[\"Survive7Y\", \"Death7Y\", \"ID\", \"ModelOutput\"])\n",
    "\n",
    "cph = CoxPHFitter()\n",
    "cph.fit(df_feat, duration_col='duration', event_col='observed')\n",
    "cph.print_summary()"
   ]
  }
 ],
 "metadata": {
  "interpreter": {
   "hash": "845b4840230c082c9fa3266fb7fe4179530e4b97f7408c449f411300982041c4"
  },
  "kernelspec": {
   "display_name": "Python 3.10.0 ('ipoteri')",
   "language": "python",
   "name": "python3"
  },
  "language_info": {
   "codemirror_mode": {
    "name": "ipython",
    "version": 3
   },
   "file_extension": ".py",
   "mimetype": "text/x-python",
   "name": "python",
   "nbconvert_exporter": "python",
   "pygments_lexer": "ipython3",
   "version": "3.10.0"
  },
  "orig_nbformat": 4
 },
 "nbformat": 4,
 "nbformat_minor": 2
}
