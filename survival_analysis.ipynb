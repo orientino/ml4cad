{
 "cells": [
  {
   "cell_type": "code",
   "execution_count": 2,
   "metadata": {},
   "outputs": [],
   "source": [
    "import pandas as pd\n",
    "import numpy as np\n",
    "import matplotlib.pyplot as plt\n",
    "\n",
    "plt.style.use('ggplot')\n",
    "%matplotlib inline"
   ]
  },
  {
   "cell_type": "markdown",
   "metadata": {},
   "source": [
    "# TODO\n",
    "1- Survival analysis whole dataset\n",
    "2- Survival analysis age threshold\n",
    "2- Survival analysis subset, subset + age\n",
    "3- Survival analysis on model's prediction, comparison with previous \n",
    "\n",
    "Create duration, observation features\n",
    "- Duration: difference dates\n",
    "- Observation: death or not\n"
   ]
  },
  {
   "cell_type": "code",
   "execution_count": 5,
   "metadata": {},
   "outputs": [
    {
     "name": "stdout",
     "output_type": "stream",
     "text": [
      "<class 'pandas.core.frame.DataFrame'>\n",
      "Int64Index: 5820 entries, 395 to 1193\n",
      "Data columns (total 80 columns):\n",
      " #   Column                                      Non-Null Count  Dtype         \n",
      "---  ------                                      --------------  -----         \n",
      " 0   Age (1)                                     5820 non-null   int64         \n",
      " 1   Gender (Male = 1)                           5820 non-null   int64         \n",
      " 2   Angina                                      5820 non-null   int64         \n",
      " 3   Previous CABG                               5820 non-null   int64         \n",
      " 4   Previous PCI                                5820 non-null   int64         \n",
      " 5   Previous \n",
      "Myocardial Infarction             5820 non-null   int64         \n",
      " 6   Acute \n",
      "Myocardial Infarction                5820 non-null   int64         \n",
      " 7   Angiography                                 5820 non-null   int64         \n",
      " 8   Vessels                                     3562 non-null   float64       \n",
      " 9   CAD                                         5820 non-null   int64         \n",
      " 10  Smoke\n",
      "History of smoke                      5820 non-null   int64         \n",
      " 11  Diabetes\n",
      "History of diabetes                5820 non-null   int64         \n",
      " 12  Hypertension\n",
      "History of hypertension        5820 non-null   int64         \n",
      " 13  Dyslipidemia\n",
      "Hystory of dyslipidemia        5820 non-null   int64         \n",
      " 14  Family history of CAD                       5820 non-null   int64         \n",
      " 15  Obesity\n",
      "History of obesity                  5820 non-null   int64         \n",
      " 16  Documented resting \n",
      "or exertional ischemia  5820 non-null   int64         \n",
      " 17  Post-ischemic Dilated\n",
      "Cardiomyopathy        5820 non-null   int64         \n",
      " 18  Primary Dilated\n",
      "Cardiomyopathy              5820 non-null   int64         \n",
      " 19  Atrial Fibrillation                         5820 non-null   int64         \n",
      " 20  Paroxysmal atrial fibrillation              5820 non-null   int64         \n",
      " 21  B-Blockers                                  5820 non-null   int64         \n",
      " 22  Amiodarone                                  5820 non-null   int64         \n",
      " 23  Calcium channel blockers                    5820 non-null   int64         \n",
      " 24  Diuretics                                   5820 non-null   int64         \n",
      " 25  Antiplatelet                                5820 non-null   int64         \n",
      " 26  Nitrates                                    5820 non-null   int64         \n",
      " 27  ACE-inhibitors                              5820 non-null   int64         \n",
      " 28  Ipolipemizzanti                             5820 non-null   int64         \n",
      " 29  Antidiabetici                               5820 non-null   int64         \n",
      " 30  Total cholesterol                           5820 non-null   int64         \n",
      " 31  HDL                                         5820 non-null   int64         \n",
      " 32  LDL                                         5820 non-null   float64       \n",
      " 33  Triglycerides                               5820 non-null   int64         \n",
      " 34  Glycemia                                    5813 non-null   float64       \n",
      " 35  TSH                                         5820 non-null   float64       \n",
      " 36  fT3                                         5820 non-null   float64       \n",
      " 37  fT4                                         5820 non-null   float64       \n",
      " 38  Euthyroid                                   5820 non-null   float64       \n",
      " 39  Subclinical primary hypothyroidism (SCH)    5820 non-null   float64       \n",
      " 40  Subclinical primary hyperthyroidism\n",
      "(SCT)   5820 non-null   float64       \n",
      " 41  Low T3                                      5820 non-null   float64       \n",
      " 42  Ipotiroidismo                               5820 non-null   float64       \n",
      " 43  Ipertiroidismo                              5820 non-null   float64       \n",
      " 44  Normal                                      5820 non-null   int64         \n",
      " 45  SindromeX                                   5820 non-null   int64         \n",
      " 46  AMI                                         5820 non-null   int64         \n",
      " 47  PMI                                         5820 non-null   int64         \n",
      " 48  Aritmie                                     5820 non-null   int64         \n",
      " 49  MIN                                         5820 non-null   int64         \n",
      " 50  MIO                                         5820 non-null   int64         \n",
      " 51  Miocardite                                  5820 non-null   int64         \n",
      " 52  Pericardite                                 5820 non-null   int64         \n",
      " 53  Endocardite                                 5820 non-null   int64         \n",
      " 54  Valvulopatie                                5820 non-null   int64         \n",
      " 55  MalattiaVasoAorta                           5820 non-null   int64         \n",
      " 56  Ipertensione                                5820 non-null   int64         \n",
      " 57  CardiopatiaCongenita                        5820 non-null   int64         \n",
      " 58  EmboliaPolmonare                            5820 non-null   int64         \n",
      " 59  EPA                                         5820 non-null   int64         \n",
      " 60  HR                                          5791 non-null   float64       \n",
      " 61  BMI                                         5820 non-null   float64       \n",
      " 62  Diastolic blood pressure                    5820 non-null   int64         \n",
      " 63  Systolic blood pressure                     5820 non-null   int64         \n",
      " 64  WmsiBas                                     5820 non-null   float64       \n",
      " 65  DimSettoIV                                  5820 non-null   int64         \n",
      " 66  DimParPost                                  5820 non-null   int64         \n",
      " 67  fe                                          5820 non-null   int64         \n",
      " 68  vsx                                         5820 non-null   int64         \n",
      " 69  Follow Up Data                              5820 non-null   datetime64[ns]\n",
      " 70  Data of death                               1469 non-null   object        \n",
      " 71  Cause of death                              1469 non-null   object        \n",
      " 72  Cardiac cause of death                      5809 non-null   float64       \n",
      " 73  Collected by                                1469 non-null   object        \n",
      " 74  CABG                                        635 non-null    object        \n",
      " 75  Non Fatal AMI (Follow-Up)                   204 non-null    object        \n",
      " 76  PCI                                         1013 non-null   object        \n",
      " 77  Ictus                                       73 non-null     object        \n",
      " 78  Data prelievo (1)                           5820 non-null   datetime64[ns]\n",
      " 79  Survive7Y                                   5820 non-null   int64         \n",
      "dtypes: datetime64[ns](2), float64(16), int64(55), object(7)\n",
      "memory usage: 3.6+ MB\n"
     ]
    }
   ],
   "source": [
    "df = pd.read_csv(\"./data/data/data_cvd.csv\", index_col=0, decimal='.')\n",
    "df[\"Follow Up Data\"] = pd.to_datetime(df[\"Follow Up Data\"], format=\"%Y/%m/%d\")\n",
    "df[\"Data prelievo (1)\"] = pd.to_datetime(df[\"Data prelievo (1)\"], format=\"%Y/%m/%d\")\n",
    "df.info()"
   ]
  },
  {
   "cell_type": "code",
   "execution_count": 15,
   "metadata": {},
   "outputs": [
    {
     "data": {
      "text/plain": [
       "<matplotlib.axes._subplots.AxesSubplot at 0x7fc5c5eecc40>"
      ]
     },
     "execution_count": 15,
     "metadata": {},
     "output_type": "execute_result"
    },
    {
     "data": {
      "image/png": "[encoded data removed]",
      "text/plain": [
       "<Figure size 432x288 with 1 Axes>"
      ]
     },
     "metadata": {},
     "output_type": "display_data"
    }
   ],
   "source": [
    "# duration and observation features\n",
    "df_surv = df.copy()\n",
    "df_surv[\"duration\"] = (df[\"Follow Up Data\"] - df[\"Data prelievo (1)\"]).map(lambda x: x.days//365)\n",
    "df_surv[\"duration\"].value_counts().sort_index().plot(kind='bar')\n",
    "\n",
    "df_surv[\"observation\"] = df[\"\"]"
   ]
  }
 ],
 "metadata": {
  "interpreter": {
   "hash": "31f2aee4e71d21fbe5cf8b01ff0e069b9275f58929596ceb00d14d90e3e16cd6"
  },
  "kernelspec": {
   "display_name": "Python 3.8.10 64-bit",
   "language": "python",
   "name": "python3"
  },
  "language_info": {
   "codemirror_mode": {
    "name": "ipython",
    "version": 3
   },
   "file_extension": ".py",
   "mimetype": "text/x-python",
   "name": "python",
   "nbconvert_exporter": "python",
   "pygments_lexer": "ipython3",
   "version": "3.8.10"
  },
  "orig_nbformat": 4
 },
 "nbformat": 4,
 "nbformat_minor": 2
}
